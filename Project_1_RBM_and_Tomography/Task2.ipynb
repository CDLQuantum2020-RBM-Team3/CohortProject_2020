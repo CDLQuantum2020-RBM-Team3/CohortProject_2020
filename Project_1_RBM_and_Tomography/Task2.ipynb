{
  "nbformat": 4,
  "nbformat_minor": 0,
  "metadata": {
    "colab": {
      "name": "Task2.ipynb",
      "provenance": [],
      "collapsed_sections": [],
      "toc_visible": true
    },
    "kernelspec": {
      "display_name": "Python 3",
      "language": "python",
      "name": "python3"
    },
    "language_info": {
      "codemirror_mode": {
        "name": "ipython",
        "version": 3
      },
      "file_extension": ".py",
      "mimetype": "text/x-python",
      "name": "python",
      "nbconvert_exporter": "python",
      "pygments_lexer": "ipython3",
      "version": "3.7.7"
    },
    "toc": {
      "base_numbering": 1,
      "nav_menu": {},
      "number_sections": true,
      "sideBar": true,
      "skip_h1_title": false,
      "title_cell": "Table of Contents",
      "title_sidebar": "Contents",
      "toc_cell": false,
      "toc_position": {},
      "toc_section_display": true,
      "toc_window_display": false
    },
    "varInspector": {
      "cols": {
        "lenName": 16,
        "lenType": 16,
        "lenVar": 40
      },
      "kernels_config": {
        "python": {
          "delete_cmd_postfix": "",
          "delete_cmd_prefix": "del ",
          "library": "var_list.py",
          "varRefreshCmd": "print(var_dic_list())"
        },
        "r": {
          "delete_cmd_postfix": ") ",
          "delete_cmd_prefix": "rm(",
          "library": "var_list.r",
          "varRefreshCmd": "cat(var_dic_list()) "
        }
      },
      "types_to_exclude": [
        "module",
        "function",
        "builtin_function_or_method",
        "instance",
        "_Feature"
      ],
      "window_display": false
    },
    "accelerator": "GPU"
  },
  "cells": [
    {
      "cell_type": "markdown",
      "metadata": {
        "colab_type": "text",
        "id": "7G_PIeodU4GV"
      },
      "source": [
        "# Task #2\n",
        "\n",
        "A template code for training an RBM on Rydberg atom data (the full dataset) is provided below. For the first part of this task (determining the minimum number of hidden units), start with 20 hidden units. \n",
        "\n",
        "### Imports and loading in data:"
      ]
    },
    {
      "cell_type": "code",
      "metadata": {
        "colab_type": "code",
        "id": "gP-5GxpTU4GW",
        "colab": {}
      },
      "source": [
        "import numpy as np\n",
        "import torch\n",
        "from RBM_helper import RBM\n",
        "import importlib\n",
        "import Plotters\n",
        "importlib.reload(Plotters)\n",
        "\n",
        "import Rydberg_energy_calculator\n",
        "\n",
        "training_data = torch.from_numpy(np.loadtxt(\"Rydberg_data.txt\"))"
      ],
      "execution_count": 5,
      "outputs": []
    },
    {
      "cell_type": "markdown",
      "metadata": {
        "colab_type": "text",
        "id": "hRhClrhxU4Gk"
      },
      "source": [
        "### Helper for training the RBM"
      ]
    },
    {
      "cell_type": "code",
      "metadata": {
        "colab_type": "code",
        "id": "zlPfxCt5U4Gl",
        "colab": {}
      },
      "source": [
        "class RBMTrainer():\n",
        "    def __init__(self, n_vis, n_hin, training_data):\n",
        "        \"\"\"\n",
        "        RBMTrainer needs params to create an rbm and training data to work with\n",
        "        \"\"\"\n",
        "        self.n_vis = n_vis\n",
        "        self.n_hin = n_hin\n",
        "        self.training_data = training_data\n",
        "        \n",
        "    def reset_state(self):\n",
        "        self.rbm = RBM(self.n_vis, self.n_hin)\n",
        "        self.best_epoch = None\n",
        "        self.best_evaluation = None\n",
        "        self.stopping_criterion_reached = False\n",
        "\n",
        "    def run(self, epochs=1000, lr=1e-2, do_lr_annealing=False,\n",
        "            n_train_samples=20000, test_interval=50,\n",
        "            n_test_samples=20000, stopping_patience=2, verbose=False,\n",
        "            do_plot=False):\n",
        "        \"\"\"\n",
        "        params:\n",
        "            epochs - max number of epochs to train for\n",
        "            n_train_samples - number of samples to train with\n",
        "            test_interval - how often (number of epochs) to stop and evaluate energy\n",
        "            n_test_samples - how many samples to use for testings\n",
        "                                more samples --> better statistical significance\n",
        "            stopping_patience - how many times in a row the stopping criterion\n",
        "                                    needs to be reached in order to stop early\n",
        "                                    Set this to -1 to not stop early at all\n",
        "            verbose - Whether to printout training progress indicators\n",
        "            do_plot - Whether to have a live plot of the evaluated energy vs epochs\n",
        "        Note: at the start of each run the state is reset\n",
        "        \"\"\"\n",
        "        self.reset_state()\n",
        "        \n",
        "        n_train_samples = min(len(self.training_data), 20000)\n",
        "\n",
        "        exact_energy = -4.1203519096\n",
        "        if verbose:\n",
        "            print(\"Exact energy: \",exact_energy)\n",
        "\n",
        "        # Stopping criterion\n",
        "        # Difference between exact energy and simulated energy must be below this thresh\n",
        "        diff_thresh = 1e-4\n",
        "\n",
        "        if do_plot:\n",
        "            plot_title = f\"{self.n_hin} hidden neurons; training with {n_train_samples} samples; testing with {n_test_samples} samples\"\n",
        "            plotter = Plotters.XYPlotter(href=diff_thresh,\n",
        "                                        title=plot_title,\n",
        "                                        x_label=\"Epoch\",\n",
        "                                        y_label=\"Energy difference\")\n",
        "            %matplotlib inline\n",
        "\n",
        "        patience_cnt = 0 # counter for stopping criterion\n",
        "        for e in range(1, epochs+1):\n",
        "            # do one epoch of training\n",
        "            if do_lr_annealing:\n",
        "                current_lr = lr * (1 - e / (epochs+1))\n",
        "            self.rbm.train(self.training_data[:n_train_samples], lr=current_lr)   \n",
        "        \n",
        "            # now generate samples and calculate the energy\n",
        "            if e % test_interval == 0:\n",
        "                if verbose:\n",
        "                    print(\"\\nEpoch: \", e)\n",
        "                    print(\"Sampling...\")\n",
        "\n",
        "                init_state = torch.zeros(n_test_samples, n_vis)\n",
        "                RBM_samples = self.rbm.draw_samples(100, init_state)\n",
        "\n",
        "                if verbose:\n",
        "                    print(\"Done sampling. Calculating energy...\") \n",
        "        \n",
        "                energies = Rydberg_energy_calculator.energy(RBM_samples, self.rbm.wavefunction) \n",
        "                if verbose:\n",
        "                    print(\"Energy from RBM samples: \", energies.item())\n",
        "\n",
        "                C = abs(energies.item() - exact_energy) # our \"loss\" function\n",
        "\n",
        "                if do_plot:\n",
        "                    plotter.update(e, C)\n",
        "\n",
        "                # update metrics\n",
        "                if self.best_evaluation is None or C < self.best_evaluation:\n",
        "                    self.best_evaluation = C\n",
        "                    self.best_epoch = e\n",
        "\n",
        "                # stopping criterion\n",
        "                if stopping_patience > 0 and C < diff_thresh:\n",
        "                    patience_cnt += 1\n",
        "                    if patience_cnt >= stopping_patience:\n",
        "                        print(f'Algorithm stopped after {e} epochs with energy estimation {energies.item()}')\n",
        "                        self.stopping_criterion_reached = True\n",
        "                        break\n",
        "                else:\n",
        "                    patience_cnt = 0 # reset patience if we didn't hit the criterion\n",
        "        \n",
        "        if verbose:\n",
        "            print(f'Training finalised. Best epoch: {self.best_epoch}; Best evaluation: {self.best_evaluation}')"
      ],
      "execution_count": 56,
      "outputs": []
    },
    {
      "cell_type": "markdown",
      "metadata": {
        "id": "_aUU0i7vKUYP",
        "colab_type": "text"
      },
      "source": [
        "### Do a standalone run"
      ]
    },
    {
      "cell_type": "code",
      "metadata": {
        "colab_type": "code",
        "id": "BdU_PmrvVVD2",
        "colab": {
          "base_uri": "https://localhost:8080/",
          "height": 312
        },
        "outputId": "f914b2b1-8a6b-4b79-d87e-3a4e296bec49"
      },
      "source": [
        "trainer = RBMTrainer(training_data.shape[1], 10, training_data)\n",
        "trainer.run(epochs=1000, n_train_samples=20000, test_interval=50,\n",
        "            n_test_samples=20000, stopping_patience=2, verbose=True, do_plot=True)"
      ],
      "execution_count": 55,
      "outputs": [
        {
          "output_type": "display_data",
          "data": {
            "image/png": "[encoded data removed]",
            "text/plain": [
              "<Figure size 432x288 with 1 Axes>"
            ]
          },
          "metadata": {
            "tags": [],
            "needs_background": "light"
          }
        },
        {
          "output_type": "stream",
          "text": [
            "Training finalised. Best epoch: 750; Best evaluation: 0.00020703423780066288\n"
          ],
          "name": "stdout"
        }
      ]
    },
    {
      "cell_type": "markdown",
      "metadata": {
        "id": "djE04NUKKXG2",
        "colab_type": "text"
      },
      "source": [
        "### Sweep over number of hidden nodes"
      ]
    },
    {
      "cell_type": "code",
      "metadata": {
        "id": "MNzkoOtIKRhs",
        "colab_type": "code",
        "colab": {
          "base_uri": "https://localhost:8080/",
          "height": 295
        },
        "outputId": "bb71e898-1294-4def-8476-4c8e0c79b0e3"
      },
      "source": [
        "plot_title = \"Sweep over number of hidden neurons\"\n",
        "plotter = Plotters.XYPlotter(href=diff_thresh,\n",
        "                            title=plot_title,\n",
        "                            x_label=\"Number of hidden neurons\",\n",
        "                            y_label=\"Smallest energy difference achieved\")\n",
        "%matplotlib inline\n",
        "\n",
        "n_hin = 1\n",
        "step = 1\n",
        "while True:\n",
        "    trainer = RBMTrainer(training_data.shape[1], n_hin, training_data)\n",
        "    trainer.run(epochs=1000, n_train_samples=20000, test_interval=50,\n",
        "                n_test_samples=20000, stopping_patience=2, verbose=False,\n",
        "                do_plot=False)\n",
        "    plotter.update(n_hin, trainer.best_evaluation)\n",
        "    if trainer.stopping_criterion_reached:\n",
        "        print(f\"Achieved stopping criterion with {n_hin} hidden neurons\")\n",
        "        break\n",
        "    n_hin += step"
      ],
      "execution_count": null,
      "outputs": [
        {
          "output_type": "display_data",
          "data": {
            "image/png": "[encoded data removed]",
            "text/plain": [
              "<Figure size 432x288 with 1 Axes>"
            ]
          },
          "metadata": {
            "tags": [],
            "needs_background": "light"
          }
        }
      ]
    },
    {
      "cell_type": "code",
      "metadata": {
        "id": "jzbObWChqmnJ",
        "colab_type": "code",
        "colab": {}
      },
      "source": [
        ""
      ],
      "execution_count": null,
      "outputs": []
    }
  ]
}