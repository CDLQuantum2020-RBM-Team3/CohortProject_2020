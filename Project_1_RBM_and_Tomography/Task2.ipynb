{
  "nbformat": 4,
  "nbformat_minor": 0,
  "metadata": {
    "kernelspec": {
      "display_name": "cdl",
      "language": "python",
      "name": "cdl"
    },
    "language_info": {
      "codemirror_mode": {
        "name": "ipython",
        "version": 3
      },
      "file_extension": ".py",
      "mimetype": "text/x-python",
      "name": "python",
      "nbconvert_exporter": "python",
      "pygments_lexer": "ipython3",
      "version": "3.7.0b5"
    },
    "toc": {
      "base_numbering": 1,
      "nav_menu": {},
      "number_sections": true,
      "sideBar": true,
      "skip_h1_title": false,
      "title_cell": "Table of Contents",
      "title_sidebar": "Contents",
      "toc_cell": false,
      "toc_position": {},
      "toc_section_display": true,
      "toc_window_display": false
    },
    "varInspector": {
      "cols": {
        "lenName": 16,
        "lenType": 16,
        "lenVar": 40
      },
      "kernels_config": {
        "python": {
          "delete_cmd_postfix": "",
          "delete_cmd_prefix": "del ",
          "library": "var_list.py",
          "varRefreshCmd": "print(var_dic_list())"
        },
        "r": {
          "delete_cmd_postfix": ") ",
          "delete_cmd_prefix": "rm(",
          "library": "var_list.r",
          "varRefreshCmd": "cat(var_dic_list()) "
        }
      },
      "types_to_exclude": [
        "module",
        "function",
        "builtin_function_or_method",
        "instance",
        "_Feature"
      ],
      "window_display": false
    },
    "colab": {
      "name": "Task2.ipynb",
      "provenance": [],
      "toc_visible": true
    }
  },
  "cells": [
    {
      "cell_type": "markdown",
      "metadata": {
        "id": "YyyqHknXLAcZ",
        "colab_type": "text"
      },
      "source": [
        "# Task #2\n",
        "\n",
        "A template code for training an RBM on Rydberg atom data (the full dataset) is provided below. For the first part of this task (determining the minimum number of hidden units), start with 1 hidden unit. \n",
        "\n",
        "Imports and loading in data:"
      ]
    },
    {
      "cell_type": "code",
      "metadata": {
        "id": "5a1JngC7LD5X",
        "colab_type": "code",
        "colab": {
          "base_uri": "https://localhost:8080/",
          "height": 34
        },
        "outputId": "ec9c3a11-842e-4926-80f4-e67cfbf7a4ca"
      },
      "source": [
        "#from google.colab import drive\n",
        "#drive.mount('/content/drive', force_remount=True)\n",
        "#!cp -r \"/content/drive/My Drive/Project_1_RBM_and_Tomography\" \"P_1\""
      ],
      "execution_count": null,
      "outputs": [
        {
          "output_type": "stream",
          "text": [
            "Mounted at /content/drive\n"
          ],
          "name": "stdout"
        }
      ]
    },
    {
      "cell_type": "code",
      "metadata": {
        "id": "biglm5dcLAcg",
        "colab_type": "code",
        "colab": {}
      },
      "source": [
        "import numpy as np\n",
        "import torch\n",
        "from RBM_helper import RBM\n",
        "#from P_1.RBM_helper import RBM\n",
        "import importlib\n",
        "import Plotters\n",
        "#import P_1.Plotters as Plotters\n",
        "importlib.reload(Plotters)\n",
        "\n",
        "import Rydberg_energy_calculator\n",
        "#import P_1.Rydberg_energy_calculator as Rydberg_energy_calculator\n",
        "\n",
        "training_data = torch.from_numpy(np.loadtxt(\"Rydberg_data.txt\"))\n",
        "#training_data = torch.from_numpy(np.loadtxt(\"P_1/Rydberg_data.txt\"))\n",
        "use_n_samples = min(len(training_data), 20000)"
      ],
      "execution_count": null,
      "outputs": []
    },
    {
      "cell_type": "markdown",
      "metadata": {
        "id": "hPEDmjBpLAcm",
        "colab_type": "text"
      },
      "source": [
        "Define the RBM:"
      ]
    },
    {
      "cell_type": "code",
      "metadata": {
        "id": "CH-HgMZOLAco",
        "colab_type": "code",
        "colab": {}
      },
      "source": [
        "n_vis = training_data.shape[1]\n",
        "n_hin = 2\n",
        "\n",
        "rbm = RBM(n_vis, n_hin)"
      ],
      "execution_count": null,
      "outputs": []
    },
    {
      "cell_type": "markdown",
      "metadata": {
        "id": "OqA65py_LAcs",
        "colab_type": "text"
      },
      "source": [
        "Train the RBM:"
      ]
    },
    {
      "cell_type": "code",
      "metadata": {
        "id": "OMFOhbPULAcs",
        "colab_type": "code",
        "colab": {
          "base_uri": "https://localhost:8080/",
          "height": 612
        },
        "outputId": "fb7b3f21-bc14-4f31-9eb1-86c4453a7122"
      },
      "source": [
        "epochs = 500\n",
        "num_samples = 500\n",
        "\n",
        "exact_energy = -4.1203519096\n",
        "print(\"Exact energy: \",exact_energy)\n",
        "print(\"Number of hidden units:\", n_hin)\n",
        "\n",
        "diff_thresh = 1e-4\n",
        "\n",
        "plot_title = f\"{n_hin} hidden units; training with {num_samples} samples\"\n",
        "plotter = Plotters.XYPlotter(href=diff_thresh,\n",
        "                             title=plot_title,\n",
        "                             x_label=\"Epoch\",\n",
        "                             y_label=\"Energy difference\")\n",
        "%matplotlib inline\n",
        "\n",
        "for e in range(1, epochs+1):\n",
        "    # do one epoch of training\n",
        "    rbm.train(training_data[:num_samples])   \n",
        " \n",
        "    # now generate samples and calculate the energy\n",
        "    if e % 10 == 0:\n",
        "        print(\"\\nEpoch: \", e)\n",
        "        print(\"Sampling...\")\n",
        "\n",
        "        init_state = torch.zeros(num_samples, n_vis)\n",
        "        RBM_samples = rbm.draw_samples(100, init_state)\n",
        "\n",
        "        print(\"Done sampling. Calculating energy...\") \n",
        " \n",
        "        energies = Rydberg_energy_calculator.energy(RBM_samples, rbm.wavefunction) \n",
        "        print(\"Energy from RBM samples: \", energies.item())\n",
        "\n",
        "        plotter.update(e, abs(energies.item() - exact_energy))\n",
        "        print(\"Difference:\", abs(energies.item() - exact_energy))\n",
        "\n",
        "        # stopping criterion\n",
        "        if abs(energies.item() - exact_energy) < diff_thresh:\n",
        "            print(f'Algorithm stopped after {e} epochs with energy estimation {energies.item()}')\n",
        "            print(\"Number of hidden units:\", n_hin)\n",
        "            print(\"RBM Samples:\", num_samples)\n",
        "            #break"
      ],
      "execution_count": null,
      "outputs": [
        {
          "output_type": "stream",
          "text": [
            "Exact energy:  -4.1203519096\n",
            "Number of hidden units: 2\n",
            "\n",
            "Epoch:  10\n",
            "Sampling...\n",
            "Done sampling. Calculating energy...\n",
            "Energy from RBM samples:  -4.120131695654462\n",
            "Difference: 0.00022021394553828344\n",
            "\n",
            "Epoch:  20\n",
            "Sampling...\n",
            "Done sampling. Calculating energy...\n",
            "Energy from RBM samples:  -4.120106781353415\n",
            "Difference: 0.0002451282465854021\n",
            "\n",
            "Epoch:  30\n",
            "Sampling...\n",
            "Done sampling. Calculating energy...\n",
            "Energy from RBM samples:  -4.12001600714296\n",
            "Difference: 0.00033590245704040456\n",
            "\n",
            "Epoch:  40\n",
            "Sampling...\n",
            "Done sampling. Calculating energy...\n",
            "Energy from RBM samples:  -4.120092065605315\n",
            "Difference: 0.00025984399468548247\n",
            "\n",
            "Epoch:  50\n",
            "Sampling...\n",
            "Done sampling. Calculating energy...\n",
            "Energy from RBM samples:  -4.120368369375167\n",
            "Difference: 1.6459775166843826e-05\n",
            "Algorithm stopped after 50 epochs with energy estimation -4.120368369375167\n",
            "Number of hidden units: 2\n",
            "RBM Samples: 500\n"
          ],
          "name": "stdout"
        }
      ]
    },
    {
      "cell_type": "code",
      "metadata": {
        "id": "Ak05HQdrsuqG",
        "colab_type": "code",
        "colab": {}
      },
      "source": [
        "  "
      ],
      "execution_count": null,
      "outputs": []
    }
  ]
}