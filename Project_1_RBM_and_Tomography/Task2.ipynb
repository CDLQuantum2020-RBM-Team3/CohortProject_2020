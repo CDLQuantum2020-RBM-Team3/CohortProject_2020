{
  "nbformat": 4,
  "nbformat_minor": 0,
  "metadata": {
    "colab": {
      "name": "Task2.ipynb",
      "provenance": [],
      "collapsed_sections": [],
      "toc_visible": true
    },
    "kernelspec": {
      "display_name": "Python 3",
      "language": "python",
      "name": "python3"
    },
    "language_info": {
      "codemirror_mode": {
        "name": "ipython",
        "version": 3
      },
      "file_extension": ".py",
      "mimetype": "text/x-python",
      "name": "python",
      "nbconvert_exporter": "python",
      "pygments_lexer": "ipython3",
      "version": "3.7.7"
    },
    "toc": {
      "base_numbering": 1,
      "nav_menu": {},
      "number_sections": true,
      "sideBar": true,
      "skip_h1_title": false,
      "title_cell": "Table of Contents",
      "title_sidebar": "Contents",
      "toc_cell": false,
      "toc_position": {},
      "toc_section_display": true,
      "toc_window_display": false
    },
    "varInspector": {
      "cols": {
        "lenName": 16,
        "lenType": 16,
        "lenVar": 40
      },
      "kernels_config": {
        "python": {
          "delete_cmd_postfix": "",
          "delete_cmd_prefix": "del ",
          "library": "var_list.py",
          "varRefreshCmd": "print(var_dic_list())"
        },
        "r": {
          "delete_cmd_postfix": ") ",
          "delete_cmd_prefix": "rm(",
          "library": "var_list.r",
          "varRefreshCmd": "cat(var_dic_list()) "
        }
      },
      "types_to_exclude": [
        "module",
        "function",
        "builtin_function_or_method",
        "instance",
        "_Feature"
      ],
      "window_display": false
    }
  },
  "cells": [
    {
      "cell_type": "code",
      "metadata": {
        "id": "0CMVrS2tKzKn",
        "colab_type": "code",
        "colab": {
          "base_uri": "https://localhost:8080/",
          "height": 357
        },
        "outputId": "c7e4747f-a4c9-4d4b-d4bc-c1ca312caf15"
      },
      "source": [
        "!nvidia-smi"
      ],
      "execution_count": 18,
      "outputs": [
        {
          "output_type": "stream",
          "text": [
            "Fri Jul 10 15:23:47 2020       \n",
            "+-----------------------------------------------------------------------------+\n",
            "| NVIDIA-SMI 450.36.06    Driver Version: 418.67       CUDA Version: 10.1     |\n",
            "|-------------------------------+----------------------+----------------------+\n",
            "| GPU  Name        Persistence-M| Bus-Id        Disp.A | Volatile Uncorr. ECC |\n",
            "| Fan  Temp  Perf  Pwr:Usage/Cap|         Memory-Usage | GPU-Util  Compute M. |\n",
            "|                               |                      |               MIG M. |\n",
            "|===============================+======================+======================|\n",
            "|   0  Tesla P100-PCIE...  Off  | 00000000:00:04.0 Off |                    0 |\n",
            "| N/A   36C    P0    32W / 250W |    799MiB / 16280MiB |      0%      Default |\n",
            "|                               |                      |                 ERR! |\n",
            "+-------------------------------+----------------------+----------------------+\n",
            "                                                                               \n",
            "+-----------------------------------------------------------------------------+\n",
            "| Processes:                                                                  |\n",
            "|  GPU   GI   CI        PID   Type   Process name                  GPU Memory |\n",
            "|        ID   ID                                                   Usage      |\n",
            "|=============================================================================|\n",
            "|  No running processes found                                                 |\n",
            "+-----------------------------------------------------------------------------+\n"
          ],
          "name": "stdout"
        }
      ]
    },
    {
      "cell_type": "markdown",
      "metadata": {
        "colab_type": "text",
        "id": "7G_PIeodU4GV"
      },
      "source": [
        "# Task #2\n",
        "\n",
        "A template code for training an RBM on Rydberg atom data (the full dataset) is provided below. For the first part of this task (determining the minimum number of hidden units), start with 20 hidden units. \n",
        "\n",
        "### Imports and loading in data:"
      ]
    },
    {
      "cell_type": "code",
      "metadata": {
        "colab_type": "code",
        "id": "gP-5GxpTU4GW",
        "colab": {}
      },
      "source": [
        "import numpy as np\n",
        "import torch\n",
        "from RBM_helper import RBM\n",
        "import importlib\n",
        "import Plotters\n",
        "importlib.reload(Plotters)\n",
        "\n",
        "import Rydberg_energy_calculator\n",
        "\n",
        "training_data = torch.from_numpy(np.loadtxt(\"Rydberg_data.txt\"))"
      ],
      "execution_count": 35,
      "outputs": []
    },
    {
      "cell_type": "markdown",
      "metadata": {
        "colab_type": "text",
        "id": "hRhClrhxU4Gk"
      },
      "source": [
        "### Helper for training the RBM"
      ]
    },
    {
      "cell_type": "code",
      "metadata": {
        "colab_type": "code",
        "id": "zlPfxCt5U4Gl",
        "colab": {}
      },
      "source": [
        "class RBMTrainer():\n",
        "    def __init__(self, n_vis, n_hin, training_data):\n",
        "        \"\"\"\n",
        "        RBMTrainer needs params to create an rbm and training data to work with\n",
        "        \"\"\"\n",
        "        self.n_vis = n_vis\n",
        "        self.n_hin = n_hin\n",
        "        self.training_data = training_data\n",
        "        \n",
        "    def reset_state(self):\n",
        "        self.rbm = RBM(self.n_vis, self.n_hin)\n",
        "        self.best_epoch = None\n",
        "        self.best_evaluation = None\n",
        "        self.stopping_criterion_reached = False\n",
        "\n",
        "    def run(self, epochs=1000, lr=1e-2, lr_annealing='', anneal_start=0,\n",
        "            n_train_samples=20000, test_interval=50,\n",
        "            n_test_samples=20000, stopping_patience=2, verbose=False,\n",
        "            do_plot=False):\n",
        "        \"\"\"\n",
        "        params:\n",
        "            epochs - max number of epochs to train for\n",
        "            lr - base learning rate\n",
        "            lr_annealing - either 'lin' for linear annealing or 'geo' for\n",
        "                            geometric annealing\n",
        "            anneal_start - epoch at which to start lr annealing\n",
        "            n_train_samples - number of samples to train with\n",
        "            test_interval - how often (number of epochs) to stop and evaluate energy\n",
        "            n_test_samples - how many samples to use for testings\n",
        "                                more samples --> better statistical significance\n",
        "            stopping_patience - how many times in a row the stopping criterion\n",
        "                                    needs to be reached in order to stop early\n",
        "                                    Set this to -1 to not stop early at all\n",
        "            verbose - Whether to printout training progress indicators\n",
        "            do_plot - Whether to have a live plot of the evaluated energy vs epochs\n",
        "        Note: at the start of each run the state is reset\n",
        "        \"\"\"\n",
        "        self.reset_state()\n",
        "        \n",
        "        n_train_samples = min(len(self.training_data), n_train_samples)\n",
        "\n",
        "        exact_energy = -4.1203519096\n",
        "        if verbose:\n",
        "            print(\"Exact energy: \",exact_energy)\n",
        "\n",
        "        # Stopping criterion\n",
        "        # Difference between exact energy and simulated energy must be below this thresh\n",
        "        diff_thresh = 1e-4\n",
        "\n",
        "        if do_plot:\n",
        "            plot_title = f\"{self.n_hin} hidden neurons; training with {n_train_samples} samples; testing with {n_test_samples} samples\"\n",
        "            plotter = Plotters.XYPlotter(href=diff_thresh,\n",
        "                                        title=plot_title,\n",
        "                                        x_label=\"Epoch\",\n",
        "                                        y_label=\"Energy difference\")\n",
        "            %matplotlib inline\n",
        "\n",
        "        patience_cnt = 0 # counter for stopping criterion\n",
        "        for e in range(1, epochs+1):\n",
        "            # do one epoch of training\n",
        "            current_lr = lr\n",
        "            if lr_annealing == 'lin' and e > anneal_start:\n",
        "                current_lr *= (1 - (e - anneal_start) / (epochs - anneal_start + 1))\n",
        "            elif lr_annealing == 'geo' and e > anneal_start:\n",
        "                ratio = (1e-4 / lr) ** (1/(epochs-anneal_start))\n",
        "                current_lr *= ratio ** (e - anneal_start)\n",
        "            elif len(lr_annealing) and e > anneal_start:\n",
        "                print(\"Warning: lr_annealing must be one of '', 'lin', or 'geo'\")\n",
        "            self.rbm.train(self.training_data[:n_train_samples], lr=current_lr)   \n",
        "        \n",
        "            # now generate samples and calculate the energy\n",
        "            if e % test_interval == 0:\n",
        "                if verbose:\n",
        "                    print(\"\\nEpoch: \", e)\n",
        "                    print(\"lr: \", current_lr)\n",
        "                    print(\"Sampling...\")\n",
        "\n",
        "                init_state = torch.zeros(n_test_samples, self.n_vis)\n",
        "                RBM_samples = self.rbm.draw_samples(100, init_state)\n",
        "\n",
        "                if verbose:\n",
        "                    print(\"Done sampling. Calculating energy...\") \n",
        "        \n",
        "                energies = Rydberg_energy_calculator.energy(RBM_samples, self.rbm.wavefunction) \n",
        "                if verbose:\n",
        "                    print(\"Energy from RBM samples: \", energies.item())\n",
        "\n",
        "                C = abs(energies.item() - exact_energy) # our \"loss\" function\n",
        "\n",
        "                if do_plot:\n",
        "                    plotter.update(e, C)\n",
        "\n",
        "                # update metrics\n",
        "                if self.best_evaluation is None or C < self.best_evaluation:\n",
        "                    self.best_evaluation = C\n",
        "                    self.best_epoch = e\n",
        "\n",
        "                # stopping criterion\n",
        "                if stopping_patience > 0 and C < diff_thresh:\n",
        "                    patience_cnt += 1\n",
        "                    if patience_cnt >= stopping_patience:\n",
        "                        print(f'Algorithm stopped after {e} epochs with energy estimation {energies.item()}')\n",
        "                        self.stopping_criterion_reached = True\n",
        "                        break\n",
        "                else:\n",
        "                    patience_cnt = 0 # reset patience if we didn't hit the criterion\n",
        "        \n",
        "        if verbose:\n",
        "            print(f'Training finalised. Best epoch: {self.best_epoch}; Best evaluation: {self.best_evaluation}')"
      ],
      "execution_count": 36,
      "outputs": []
    },
    {
      "cell_type": "markdown",
      "metadata": {
        "id": "_aUU0i7vKUYP",
        "colab_type": "text"
      },
      "source": [
        "### Do a standalone run"
      ]
    },
    {
      "cell_type": "code",
      "metadata": {
        "colab_type": "code",
        "id": "BdU_PmrvVVD2",
        "colab": {
          "base_uri": "https://localhost:8080/",
          "height": 312
        },
        "outputId": "55151ac2-63e1-4dd5-8749-501042b7eab0"
      },
      "source": [
        "trainer = RBMTrainer(training_data.shape[1], 1, training_data)\n",
        "trainer.run(epochs=2000, lr=5e-3, lr_annealing='geo', anneal_start=1500,\n",
        "            n_train_samples=20000, test_interval=200, n_test_samples=10000,\n",
        "            stopping_patience=2, verbose=True, do_plot=True)"
      ],
      "execution_count": 43,
      "outputs": [
        {
          "output_type": "display_data",
          "data": {
            "image/png": "[encoded data removed]",
            "text/plain": [
              "<Figure size 432x288 with 1 Axes>"
            ]
          },
          "metadata": {
            "tags": [],
            "needs_background": "light"
          }
        },
        {
          "output_type": "stream",
          "text": [
            "Training finalised. Best epoch: 2000; Best evaluation: 0.00017519349606764933\n"
          ],
          "name": "stdout"
        }
      ]
    },
    {
      "cell_type": "code",
      "metadata": {
        "id": "RR7OSp4n3tGR",
        "colab_type": "code",
        "colab": {
          "base_uri": "https://localhost:8080/",
          "height": 34
        },
        "outputId": "6ef612a1-1bfb-469b-b025-a6e622f79112"
      },
      "source": [
        "print(trainer.best_evaluation)"
      ],
      "execution_count": 42,
      "outputs": [
        {
          "output_type": "stream",
          "text": [
            "0.0001915253295754482\n"
          ],
          "name": "stdout"
        }
      ]
    },
    {
      "cell_type": "markdown",
      "metadata": {
        "id": "djE04NUKKXG2",
        "colab_type": "text"
      },
      "source": [
        "### Sweep over number of hidden nodes"
      ]
    },
    {
      "cell_type": "code",
      "metadata": {
        "id": "MNzkoOtIKRhs",
        "colab_type": "code",
        "colab": {
          "base_uri": "https://localhost:8080/",
          "height": 653
        },
        "outputId": "a0e69213-de88-4fe2-8e25-64112364eb77"
      },
      "source": [
        "plot_title = \"Sweep over number of hidden neurons\"\n",
        "plotter = Plotters.XYPlotter(href=1e-4,\n",
        "                            title=plot_title,\n",
        "                            x_label=\"Number of hidden neurons\",\n",
        "                            y_label=\"Smallest energy difference achieved\")\n",
        "%matplotlib inline\n",
        "\n",
        "n_hin = 1\n",
        "step = 2\n",
        "while True:\n",
        "    trainer = RBMTrainer(training_data.shape[1], n_hin, training_data)\n",
        "    trainer.run(epochs=500, lr=5e-2, lr_annealing='', anneal_start= 200,\n",
        "                n_train_samples=20000, test_interval=50, n_test_samples=10000,\n",
        "                stopping_patience=2, verbose=False, do_plot=False)\n",
        "    plotter.update(n_hin, trainer.best_evaluation)\n",
        "    if trainer.stopping_criterion_reached:\n",
        "        print(f\"Achieved stopping criterion with {n_hin} hidden neurons\")\n",
        "        break\n",
        "    n_hin += step"
      ],
      "execution_count": 30,
      "outputs": [
        {
          "output_type": "display_data",
          "data": {
            "image/png": "[encoded data removed]",
            "text/plain": [
              "<Figure size 432x288 with 1 Axes>"
            ]
          },
          "metadata": {
            "tags": [],
            "needs_background": "light"
          }
        },
        {
          "output_type": "error",
          "ename": "KeyboardInterrupt",
          "evalue": "ignored",
          "traceback": [
            "\u001b[0;31m---------------------------------------------------------------------------\u001b[0m",
            "\u001b[0;31mKeyboardInterrupt\u001b[0m                         Traceback (most recent call last)",
            "\u001b[0;32m<ipython-input-30-35ab8498bfc6>\u001b[0m in \u001b[0;36m<module>\u001b[0;34m()\u001b[0m\n\u001b[1;32m     12\u001b[0m     trainer.run(epochs=500, lr=5e-2, lr_annealing='', anneal_start= 200,\n\u001b[1;32m     13\u001b[0m                 \u001b[0mn_train_samples\u001b[0m\u001b[0;34m=\u001b[0m\u001b[0;36m20000\u001b[0m\u001b[0;34m,\u001b[0m \u001b[0mtest_interval\u001b[0m\u001b[0;34m=\u001b[0m\u001b[0;36m50\u001b[0m\u001b[0;34m,\u001b[0m \u001b[0mn_test_samples\u001b[0m\u001b[0;34m=\u001b[0m\u001b[0;36m10000\u001b[0m\u001b[0;34m,\u001b[0m\u001b[0;34m\u001b[0m\u001b[0;34m\u001b[0m\u001b[0m\n\u001b[0;32m---> 14\u001b[0;31m                 stopping_patience=2, verbose=False, do_plot=False)\n\u001b[0m\u001b[1;32m     15\u001b[0m     \u001b[0mplotter\u001b[0m\u001b[0;34m.\u001b[0m\u001b[0mupdate\u001b[0m\u001b[0;34m(\u001b[0m\u001b[0mn_hin\u001b[0m\u001b[0;34m,\u001b[0m \u001b[0mtrainer\u001b[0m\u001b[0;34m.\u001b[0m\u001b[0mbest_evaluation\u001b[0m\u001b[0;34m)\u001b[0m\u001b[0;34m\u001b[0m\u001b[0;34m\u001b[0m\u001b[0m\n\u001b[1;32m     16\u001b[0m     \u001b[0;32mif\u001b[0m \u001b[0mtrainer\u001b[0m\u001b[0;34m.\u001b[0m\u001b[0mstopping_criterion_reached\u001b[0m\u001b[0;34m:\u001b[0m\u001b[0;34m\u001b[0m\u001b[0;34m\u001b[0m\u001b[0m\n",
            "\u001b[0;32m<ipython-input-24-8b65dd8eb02e>\u001b[0m in \u001b[0;36mrun\u001b[0;34m(self, epochs, lr, lr_annealing, anneal_start, n_train_samples, test_interval, n_test_samples, stopping_patience, verbose, do_plot)\u001b[0m\n\u001b[1;32m     67\u001b[0m             \u001b[0;32melif\u001b[0m \u001b[0mlen\u001b[0m\u001b[0;34m(\u001b[0m\u001b[0mlr_annealing\u001b[0m\u001b[0;34m)\u001b[0m \u001b[0;32mand\u001b[0m \u001b[0me\u001b[0m \u001b[0;34m>\u001b[0m \u001b[0manneal_start\u001b[0m\u001b[0;34m:\u001b[0m\u001b[0;34m\u001b[0m\u001b[0;34m\u001b[0m\u001b[0m\n\u001b[1;32m     68\u001b[0m                 \u001b[0mprint\u001b[0m\u001b[0;34m(\u001b[0m\u001b[0;34m\"Warning: lr_annealing must be one of '', 'lin', or 'geo'\"\u001b[0m\u001b[0;34m)\u001b[0m\u001b[0;34m\u001b[0m\u001b[0;34m\u001b[0m\u001b[0m\n\u001b[0;32m---> 69\u001b[0;31m             \u001b[0mself\u001b[0m\u001b[0;34m.\u001b[0m\u001b[0mrbm\u001b[0m\u001b[0;34m.\u001b[0m\u001b[0mtrain\u001b[0m\u001b[0;34m(\u001b[0m\u001b[0mself\u001b[0m\u001b[0;34m.\u001b[0m\u001b[0mtraining_data\u001b[0m\u001b[0;34m[\u001b[0m\u001b[0;34m:\u001b[0m\u001b[0mn_train_samples\u001b[0m\u001b[0;34m]\u001b[0m\u001b[0;34m,\u001b[0m \u001b[0mlr\u001b[0m\u001b[0;34m=\u001b[0m\u001b[0mcurrent_lr\u001b[0m\u001b[0;34m)\u001b[0m\u001b[0;34m\u001b[0m\u001b[0;34m\u001b[0m\u001b[0m\n\u001b[0m\u001b[1;32m     70\u001b[0m \u001b[0;34m\u001b[0m\u001b[0m\n\u001b[1;32m     71\u001b[0m             \u001b[0;31m# now generate samples and calculate the energy\u001b[0m\u001b[0;34m\u001b[0m\u001b[0;34m\u001b[0m\u001b[0;34m\u001b[0m\u001b[0m\n",
            "\u001b[0;32m/content/RBM_helper.py\u001b[0m in \u001b[0;36mtrain\u001b[0;34m(self, input_data, k, batch_size, lr)\u001b[0m\n\u001b[1;32m    126\u001b[0m \u001b[0;34m\u001b[0m\u001b[0m\n\u001b[1;32m    127\u001b[0m         \u001b[0;32mfor\u001b[0m \u001b[0mb\u001b[0m \u001b[0;32min\u001b[0m \u001b[0mrange\u001b[0m\u001b[0;34m(\u001b[0m\u001b[0mnum_batches\u001b[0m\u001b[0;34m)\u001b[0m\u001b[0;34m:\u001b[0m\u001b[0;34m\u001b[0m\u001b[0;34m\u001b[0m\u001b[0m\n\u001b[0;32m--> 128\u001b[0;31m             \u001b[0mall_gradients\u001b[0m \u001b[0;34m=\u001b[0m \u001b[0mself\u001b[0m\u001b[0;34m.\u001b[0m\u001b[0mcompute_batch_gradients\u001b[0m\u001b[0;34m(\u001b[0m\u001b[0mk\u001b[0m\u001b[0;34m,\u001b[0m \u001b[0mpos_batches\u001b[0m\u001b[0;34m[\u001b[0m\u001b[0mb\u001b[0m\u001b[0;34m]\u001b[0m\u001b[0;34m,\u001b[0m \u001b[0mneg_batches\u001b[0m\u001b[0;34m[\u001b[0m\u001b[0mb\u001b[0m\u001b[0;34m]\u001b[0m\u001b[0;34m)\u001b[0m\u001b[0;34m\u001b[0m\u001b[0;34m\u001b[0m\u001b[0m\n\u001b[0m\u001b[1;32m    129\u001b[0m \u001b[0;34m\u001b[0m\u001b[0m\n\u001b[1;32m    130\u001b[0m             \u001b[0mself\u001b[0m\u001b[0;34m.\u001b[0m\u001b[0mupdate_params\u001b[0m\u001b[0;34m(\u001b[0m\u001b[0mall_gradients\u001b[0m\u001b[0;34m,\u001b[0m \u001b[0mlr\u001b[0m\u001b[0;34m)\u001b[0m\u001b[0;34m\u001b[0m\u001b[0;34m\u001b[0m\u001b[0m\n",
            "\u001b[0;32m/content/RBM_helper.py\u001b[0m in \u001b[0;36mcompute_batch_gradients\u001b[0;34m(self, k, pos_phase_batch, neg_phase_batch)\u001b[0m\n\u001b[1;32m     92\u001b[0m \u001b[0;34m\u001b[0m\u001b[0m\n\u001b[1;32m     93\u001b[0m     \u001b[0;32mdef\u001b[0m \u001b[0mcompute_batch_gradients\u001b[0m\u001b[0;34m(\u001b[0m\u001b[0mself\u001b[0m\u001b[0;34m,\u001b[0m \u001b[0mk\u001b[0m\u001b[0;34m,\u001b[0m \u001b[0mpos_phase_batch\u001b[0m\u001b[0;34m,\u001b[0m \u001b[0mneg_phase_batch\u001b[0m\u001b[0;34m)\u001b[0m\u001b[0;34m:\u001b[0m\u001b[0;34m\u001b[0m\u001b[0;34m\u001b[0m\u001b[0m\n\u001b[0;32m---> 94\u001b[0;31m         \u001b[0mgrads_W\u001b[0m\u001b[0;34m,\u001b[0m \u001b[0mgrads_vb\u001b[0m\u001b[0;34m,\u001b[0m \u001b[0mgrads_hb\u001b[0m \u001b[0;34m=\u001b[0m \u001b[0mself\u001b[0m\u001b[0;34m.\u001b[0m\u001b[0mgradients\u001b[0m\u001b[0;34m(\u001b[0m\u001b[0mpos_phase_batch\u001b[0m\u001b[0;34m)\u001b[0m\u001b[0;34m\u001b[0m\u001b[0;34m\u001b[0m\u001b[0m\n\u001b[0m\u001b[1;32m     95\u001b[0m \u001b[0;34m\u001b[0m\u001b[0m\n\u001b[1;32m     96\u001b[0m         \u001b[0mvk\u001b[0m \u001b[0;34m=\u001b[0m \u001b[0mself\u001b[0m\u001b[0;34m.\u001b[0m\u001b[0mdraw_samples\u001b[0m\u001b[0;34m(\u001b[0m\u001b[0mk\u001b[0m\u001b[0;34m,\u001b[0m \u001b[0mneg_phase_batch\u001b[0m\u001b[0;34m)\u001b[0m\u001b[0;34m\u001b[0m\u001b[0;34m\u001b[0m\u001b[0m\n",
            "\u001b[0;32m/content/RBM_helper.py\u001b[0m in \u001b[0;36mgradients\u001b[0;34m(self, batch)\u001b[0m\n\u001b[1;32m     84\u001b[0m \u001b[0;34m\u001b[0m\u001b[0m\n\u001b[1;32m     85\u001b[0m     \u001b[0;32mdef\u001b[0m \u001b[0mgradients\u001b[0m\u001b[0;34m(\u001b[0m\u001b[0mself\u001b[0m\u001b[0;34m,\u001b[0m \u001b[0mbatch\u001b[0m\u001b[0;34m)\u001b[0m\u001b[0;34m:\u001b[0m\u001b[0;34m\u001b[0m\u001b[0;34m\u001b[0m\u001b[0m\n\u001b[0;32m---> 86\u001b[0;31m         \u001b[0mgrads_W\u001b[0m\u001b[0;34m,\u001b[0m \u001b[0mgrads_vb\u001b[0m\u001b[0;34m,\u001b[0m \u001b[0mgrads_hb\u001b[0m \u001b[0;34m=\u001b[0m \u001b[0mself\u001b[0m\u001b[0;34m.\u001b[0m\u001b[0meffective_energy_gradient\u001b[0m\u001b[0;34m(\u001b[0m\u001b[0mbatch\u001b[0m\u001b[0;34m)\u001b[0m\u001b[0;34m\u001b[0m\u001b[0;34m\u001b[0m\u001b[0m\n\u001b[0m\u001b[1;32m     87\u001b[0m         \u001b[0mgrads_W\u001b[0m \u001b[0;34m/=\u001b[0m \u001b[0mfloat\u001b[0m\u001b[0;34m(\u001b[0m\u001b[0mbatch\u001b[0m\u001b[0;34m.\u001b[0m\u001b[0mshape\u001b[0m\u001b[0;34m[\u001b[0m\u001b[0;36m0\u001b[0m\u001b[0;34m]\u001b[0m\u001b[0;34m)\u001b[0m\u001b[0;34m\u001b[0m\u001b[0;34m\u001b[0m\u001b[0m\n\u001b[1;32m     88\u001b[0m         \u001b[0mgrads_vb\u001b[0m \u001b[0;34m/=\u001b[0m \u001b[0mfloat\u001b[0m\u001b[0;34m(\u001b[0m\u001b[0mbatch\u001b[0m\u001b[0;34m.\u001b[0m\u001b[0mshape\u001b[0m\u001b[0;34m[\u001b[0m\u001b[0;36m0\u001b[0m\u001b[0;34m]\u001b[0m\u001b[0;34m)\u001b[0m\u001b[0;34m\u001b[0m\u001b[0;34m\u001b[0m\u001b[0m\n",
            "\u001b[0;32m/content/RBM_helper.py\u001b[0m in \u001b[0;36meffective_energy_gradient\u001b[0;34m(self, v)\u001b[0m\n\u001b[1;32m     37\u001b[0m     \u001b[0;32mdef\u001b[0m \u001b[0meffective_energy_gradient\u001b[0m\u001b[0;34m(\u001b[0m\u001b[0mself\u001b[0m\u001b[0;34m,\u001b[0m \u001b[0mv\u001b[0m\u001b[0;34m)\u001b[0m\u001b[0;34m:\u001b[0m\u001b[0;34m\u001b[0m\u001b[0;34m\u001b[0m\u001b[0m\n\u001b[1;32m     38\u001b[0m         \u001b[0mv\u001b[0m \u001b[0;34m=\u001b[0m \u001b[0;34m(\u001b[0m\u001b[0mv\u001b[0m\u001b[0;34m.\u001b[0m\u001b[0munsqueeze\u001b[0m\u001b[0;34m(\u001b[0m\u001b[0;36m0\u001b[0m\u001b[0;34m)\u001b[0m \u001b[0;32mif\u001b[0m \u001b[0mv\u001b[0m\u001b[0;34m.\u001b[0m\u001b[0mdim\u001b[0m\u001b[0;34m(\u001b[0m\u001b[0;34m)\u001b[0m \u001b[0;34m<\u001b[0m \u001b[0;36m2\u001b[0m \u001b[0;32melse\u001b[0m \u001b[0mv\u001b[0m\u001b[0;34m)\u001b[0m\u001b[0;34m.\u001b[0m\u001b[0mto\u001b[0m\u001b[0;34m(\u001b[0m\u001b[0mself\u001b[0m\u001b[0;34m.\u001b[0m\u001b[0mweights\u001b[0m\u001b[0;34m)\u001b[0m\u001b[0;34m\u001b[0m\u001b[0;34m\u001b[0m\u001b[0m\n\u001b[0;32m---> 39\u001b[0;31m         \u001b[0mprob\u001b[0m \u001b[0;34m=\u001b[0m \u001b[0mself\u001b[0m\u001b[0;34m.\u001b[0m\u001b[0mprob_h_given_v\u001b[0m\u001b[0;34m(\u001b[0m\u001b[0mv\u001b[0m\u001b[0;34m)\u001b[0m\u001b[0;34m\u001b[0m\u001b[0;34m\u001b[0m\u001b[0m\n\u001b[0m\u001b[1;32m     40\u001b[0m \u001b[0;34m\u001b[0m\u001b[0m\n\u001b[1;32m     41\u001b[0m         \u001b[0mW_grad\u001b[0m \u001b[0;34m=\u001b[0m \u001b[0;34m-\u001b[0m\u001b[0mtorch\u001b[0m\u001b[0;34m.\u001b[0m\u001b[0mmatmul\u001b[0m\u001b[0;34m(\u001b[0m\u001b[0mprob\u001b[0m\u001b[0;34m.\u001b[0m\u001b[0mtranspose\u001b[0m\u001b[0;34m(\u001b[0m\u001b[0;36m0\u001b[0m\u001b[0;34m,\u001b[0m \u001b[0;34m-\u001b[0m\u001b[0;36m1\u001b[0m\u001b[0;34m)\u001b[0m\u001b[0;34m,\u001b[0m \u001b[0mv\u001b[0m\u001b[0;34m)\u001b[0m\u001b[0;34m\u001b[0m\u001b[0;34m\u001b[0m\u001b[0m\n",
            "\u001b[0;32m/content/RBM_helper.py\u001b[0m in \u001b[0;36mprob_h_given_v\u001b[0;34m(self, v)\u001b[0m\n\u001b[1;32m     54\u001b[0m     \u001b[0;32mdef\u001b[0m \u001b[0mprob_h_given_v\u001b[0m\u001b[0;34m(\u001b[0m\u001b[0mself\u001b[0m\u001b[0;34m,\u001b[0m \u001b[0mv\u001b[0m\u001b[0;34m)\u001b[0m\u001b[0;34m:\u001b[0m\u001b[0;34m\u001b[0m\u001b[0;34m\u001b[0m\u001b[0m\n\u001b[1;32m     55\u001b[0m         return (\n\u001b[0;32m---> 56\u001b[0;31m             \u001b[0mtorch\u001b[0m\u001b[0;34m.\u001b[0m\u001b[0mmatmul\u001b[0m\u001b[0;34m(\u001b[0m\u001b[0mv\u001b[0m\u001b[0;34m,\u001b[0m \u001b[0mself\u001b[0m\u001b[0;34m.\u001b[0m\u001b[0mweights\u001b[0m\u001b[0;34m.\u001b[0m\u001b[0mdata\u001b[0m\u001b[0;34m.\u001b[0m\u001b[0mt\u001b[0m\u001b[0;34m(\u001b[0m\u001b[0;34m)\u001b[0m\u001b[0;34m,\u001b[0m \u001b[0mout\u001b[0m\u001b[0;34m=\u001b[0m\u001b[0;32mNone\u001b[0m\u001b[0;34m)\u001b[0m\u001b[0;34m\u001b[0m\u001b[0;34m\u001b[0m\u001b[0m\n\u001b[0m\u001b[1;32m     57\u001b[0m             \u001b[0;34m.\u001b[0m\u001b[0madd_\u001b[0m\u001b[0;34m(\u001b[0m\u001b[0mself\u001b[0m\u001b[0;34m.\u001b[0m\u001b[0mhidden_bias\u001b[0m\u001b[0;34m.\u001b[0m\u001b[0mdata\u001b[0m\u001b[0;34m)\u001b[0m\u001b[0;34m\u001b[0m\u001b[0;34m\u001b[0m\u001b[0m\n\u001b[1;32m     58\u001b[0m             \u001b[0;34m.\u001b[0m\u001b[0msigmoid_\u001b[0m\u001b[0;34m(\u001b[0m\u001b[0;34m)\u001b[0m\u001b[0;34m\u001b[0m\u001b[0;34m\u001b[0m\u001b[0m\n",
            "\u001b[0;31mKeyboardInterrupt\u001b[0m: "
          ]
        }
      ]
    },
    {
      "cell_type": "markdown",
      "metadata": {
        "id": "a7a33j88Ti9c",
        "colab_type": "text"
      },
      "source": [
        ""
      ]
    },
    {
      "cell_type": "code",
      "metadata": {
        "id": "jzbObWChqmnJ",
        "colab_type": "code",
        "colab": {}
      },
      "source": [
        ""
      ],
      "execution_count": null,
      "outputs": []
    }
  ]
}