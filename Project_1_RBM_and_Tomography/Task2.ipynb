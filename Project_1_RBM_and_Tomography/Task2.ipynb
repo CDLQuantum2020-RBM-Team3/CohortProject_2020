{
<<<<<<< HEAD
<<<<<<< HEAD
 "cells": [
  {
   "cell_type": "markdown",
   "metadata": {},
=======
 "cells": [
  {
   "cell_type": "markdown",
   "metadata": {
    "colab_type": "text",
    "id": "7G_PIeodU4GV"
   },
>>>>>>> origin/master
   "source": [
    "# Task #2\n",
    "\n",
    "A template code for training an RBM on Rydberg atom data (the full dataset) is provided below. For the first part of this task (determining the minimum number of hidden units), start with 20 hidden units. \n",
    "\n",
    "Imports and loadining in data:"
   ]
<<<<<<< HEAD
  },
  {
   "cell_type": "code",
   "execution_count": null,
   "metadata": {},
   "outputs": [],
   "source": [
    "printsys.executable"
   ]
  },
  {
   "cell_type": "code",
   "execution_count": 1,
   "metadata": {},
   "outputs": [
    {
     "ename": "ModuleNotFoundError",
     "evalue": "No module named 'torch'",
     "output_type": "error",
     "traceback": [
      "\u001b[1;31m---------------------------------------------------------------------------\u001b[0m",
      "\u001b[1;31mModuleNotFoundError\u001b[0m                       Traceback (most recent call last)",
      "\u001b[1;32m<ipython-input-1-334abbdedfbc>\u001b[0m in \u001b[0;36m<module>\u001b[1;34m\u001b[0m\n\u001b[0;32m      1\u001b[0m \u001b[1;32mimport\u001b[0m \u001b[0mnumpy\u001b[0m \u001b[1;32mas\u001b[0m \u001b[0mnp\u001b[0m\u001b[1;33m\u001b[0m\u001b[0m\n\u001b[1;32m----> 2\u001b[1;33m \u001b[1;32mimport\u001b[0m \u001b[0mtorch\u001b[0m\u001b[1;33m\u001b[0m\u001b[0m\n\u001b[0m\u001b[0;32m      3\u001b[0m \u001b[1;32mfrom\u001b[0m \u001b[0mRBM_helper\u001b[0m \u001b[1;32mimport\u001b[0m \u001b[0mRBM\u001b[0m\u001b[1;33m\u001b[0m\u001b[0m\n\u001b[0;32m      4\u001b[0m \u001b[1;33m\u001b[0m\u001b[0m\n\u001b[0;32m      5\u001b[0m \u001b[1;32mimport\u001b[0m \u001b[0mRydberg_energy_calculator\u001b[0m\u001b[1;33m\u001b[0m\u001b[0m\n",
      "\u001b[1;31mModuleNotFoundError\u001b[0m: No module named 'torch'"
     ]
    }
   ],
   "source": [
    "import numpy as np\n",
    "import torch\n",
    "from RBM_helper import RBM\n",
    "\n",
    "import Rydberg_energy_calculator\n",
    "\n",
    "training_data = torch.from_numpy(np.loadtxt(\"Rydberg_data.txt\"))"
   ]
  },
  {
   "cell_type": "markdown",
   "metadata": {},
   "source": [
    "Define the RBM:"
   ]
  },
  {
   "cell_type": "code",
   "execution_count": 4,
   "metadata": {},
   "outputs": [],
   "source": [
    "n_vis = training_data.shape[1]\n",
    "n_hin = 1\n",
    "\n",
    "rbm = RBM(n_vis, n_hin)"
   ]
  },
  {
   "cell_type": "markdown",
   "metadata": {},
   "source": [
    "Train the RBM:"
   ]
  },
  {
   "cell_type": "code",
   "execution_count": 5,
   "metadata": {},
   "outputs": [
    {
     "name": "stdout",
     "output_type": "stream",
     "text": [
      "Exact energy:  -4.1203519096\n",
      "\n",
      "Epoch:  100\n",
      "Sampling...\n",
      "Done sampling. Calculating energy...\n",
      "Energy from RBM samples:  -4.1199685433449424\n",
      "\n",
      "Epoch:  200\n",
      "Sampling...\n",
      "Done sampling. Calculating energy...\n",
      "Energy from RBM samples:  -4.120109184788488\n",
      "\n",
      "Epoch:  300\n",
      "Sampling...\n",
      "Done sampling. Calculating energy...\n",
      "Energy from RBM samples:  -4.120151539905979\n",
      "\n",
      "Epoch:  400\n",
      "Sampling...\n",
      "Done sampling. Calculating energy...\n",
      "Energy from RBM samples:  -4.12037457783455\n",
      "Learning criteria was achieved.\n"
     ]
    }
   ],
   "source": [
    "epochs = 500\n",
    "num_samples = 2000\n",
    "\n",
    "exact_energy = -4.1203519096\n",
    "print(\"Exact energy: \",exact_energy)\n",
    "\n",
    "for e in range(1, epochs+1):\n",
    "    # do one epoch of training\n",
    "    rbm.train(training_data)   \n",
    " \n",
    "    # now generate samples and calculate the energy\n",
    "    if e % 100 == 0:\n",
    "        print(\"\\nEpoch: \", e)\n",
    "        print(\"Sampling...\")\n",
    "\n",
    "        init_state = torch.zeros(num_samples, n_vis)\n",
    "        RBM_samples = rbm.draw_samples(100, init_state)\n",
    "\n",
    "        print(\"Done sampling. Calculating energy...\") \n",
    " \n",
    "        energies = Rydberg_energy_calculator.energy(RBM_samples, rbm.wavefunction) \n",
    "        print(\"Energy from RBM samples: \", energies.item())"
   ]
  }
 ],
 "metadata": {
  "kernelspec": {
   "display_name": "cdl",
   "language": "python",
   "name": "cdl"
  },
  "language_info": {
   "codemirror_mode": {
    "name": "ipython",
    "version": 3
   },
   "file_extension": ".py",
   "mimetype": "text/x-python",
   "name": "python",
   "nbconvert_exporter": "python",
   "pygments_lexer": "ipython3",
   "version": "3.7.0b5"
  },
  "toc": {
   "base_numbering": 1,
   "nav_menu": {},
   "number_sections": true,
   "sideBar": true,
   "skip_h1_title": false,
   "title_cell": "Table of Contents",
   "title_sidebar": "Contents",
   "toc_cell": false,
   "toc_position": {},
   "toc_section_display": true,
   "toc_window_display": false
=======
  "nbformat": 4,
  "nbformat_minor": 0,
  "metadata": {
    "kernelspec": {
      "display_name": "Python 3",
      "language": "python",
      "name": "python3"
    },
    "language_info": {
      "codemirror_mode": {
        "name": "ipython",
        "version": 3
      },
      "file_extension": ".py",
      "mimetype": "text/x-python",
      "name": "python",
      "nbconvert_exporter": "python",
      "pygments_lexer": "ipython3",
      "version": "3.7.4"
    },
    "toc": {
      "base_numbering": 1,
      "nav_menu": {},
      "number_sections": true,
      "sideBar": true,
      "skip_h1_title": false,
      "title_cell": "Table of Contents",
      "title_sidebar": "Contents",
      "toc_cell": false,
      "toc_position": {},
      "toc_section_display": true,
      "toc_window_display": false
    },
    "varInspector": {
      "cols": {
        "lenName": 16,
        "lenType": 16,
        "lenVar": 40
      },
      "kernels_config": {
        "python": {
          "delete_cmd_postfix": "",
          "delete_cmd_prefix": "del ",
          "library": "var_list.py",
          "varRefreshCmd": "print(var_dic_list())"
        },
        "r": {
          "delete_cmd_postfix": ") ",
          "delete_cmd_prefix": "rm(",
          "library": "var_list.r",
          "varRefreshCmd": "cat(var_dic_list()) "
        }
      },
      "types_to_exclude": [
        "module",
        "function",
        "builtin_function_or_method",
        "instance",
        "_Feature"
      ],
      "window_display": false
    },
    "colab": {
      "name": "Task2.ipynb",
      "provenance": [],
      "collapsed_sections": [],
      "toc_visible": true
    }
>>>>>>> 00d5338aa41cb5d2c8d72d16b82e46fbea20df6f
=======
>>>>>>> origin/master
  },
  {
   "cell_type": "code",
   "execution_count": 30,
   "metadata": {
    "colab": {},
    "colab_type": "code",
    "id": "gP-5GxpTU4GW"
   },
   "outputs": [],
   "source": [
    "import numpy as np\n",
    "import torch\n",
    "from RBM_helper import RBM\n",
    "import importlib\n",
    "import Plotters\n",
    "importlib.reload(Plotters)\n",
    "\n",
    "import Rydberg_energy_calculator\n",
    "\n",
    "training_data = torch.from_numpy(np.loadtxt(\"Rydberg_data.txt\"))\n",
    "use_n_samples = min(len(training_data), 20000)"
   ]
  },
  {
   "cell_type": "markdown",
   "metadata": {
    "colab_type": "text",
    "id": "YdYVbOq9U4Ge"
   },
   "source": [
    "Define the RBM:"
   ]
  },
  {
   "cell_type": "code",
   "execution_count": 31,
   "metadata": {
    "colab": {},
    "colab_type": "code",
    "id": "azAyG7tpU4Gf"
   },
   "outputs": [],
   "source": [
    "n_vis = training_data.shape[1]\n",
    "n_hin = 10\n",
    "\n",
    "rbm = RBM(n_vis, n_hin)"
   ]
  },
  {
   "cell_type": "markdown",
   "metadata": {
    "colab_type": "text",
    "id": "hRhClrhxU4Gk"
   },
   "source": [
    "Train the RBM:"
   ]
  },
  {
   "cell_type": "code",
   "execution_count": 32,
   "metadata": {
    "colab": {
     "base_uri": "https://localhost:8080/",
     "height": 653
    },
    "colab_type": "code",
    "id": "zlPfxCt5U4Gl",
    "outputId": "8eabfb2b-33c2-4423-a29a-1b965749576f"
   },
   "outputs": [
    {
     "data": {
      "image/png": "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\n",
      "text/plain": [
       "<Figure size 432x288 with 1 Axes>"
      ]
     },
     "metadata": {
      "needs_background": "light",
      "tags": []
     },
     "output_type": "display_data"
    },
    {
     "ename": "KeyboardInterrupt",
     "evalue": "ignored",
     "output_type": "error",
     "traceback": [
      "\u001b[0;31m---------------------------------------------------------------------------\u001b[0m",
      "\u001b[0;31mKeyboardInterrupt\u001b[0m                         Traceback (most recent call last)",
      "\u001b[0;32m<ipython-input-32-a1afc0fdc263>\u001b[0m in \u001b[0;36m<module>\u001b[0;34m()\u001b[0m\n\u001b[1;32m     16\u001b[0m \u001b[0;32mfor\u001b[0m \u001b[0me\u001b[0m \u001b[0;32min\u001b[0m \u001b[0mrange\u001b[0m\u001b[0;34m(\u001b[0m\u001b[0;36m1\u001b[0m\u001b[0;34m,\u001b[0m \u001b[0mepochs\u001b[0m\u001b[0;34m+\u001b[0m\u001b[0;36m1\u001b[0m\u001b[0;34m)\u001b[0m\u001b[0;34m:\u001b[0m\u001b[0;34m\u001b[0m\u001b[0;34m\u001b[0m\u001b[0m\n\u001b[1;32m     17\u001b[0m     \u001b[0;31m# do one epoch of training\u001b[0m\u001b[0;34m\u001b[0m\u001b[0;34m\u001b[0m\u001b[0;34m\u001b[0m\u001b[0m\n\u001b[0;32m---> 18\u001b[0;31m     \u001b[0mrbm\u001b[0m\u001b[0;34m.\u001b[0m\u001b[0mtrain\u001b[0m\u001b[0;34m(\u001b[0m\u001b[0mtraining_data\u001b[0m\u001b[0;34m[\u001b[0m\u001b[0;34m:\u001b[0m\u001b[0muse_n_samples\u001b[0m\u001b[0;34m]\u001b[0m\u001b[0;34m)\u001b[0m\u001b[0;34m\u001b[0m\u001b[0;34m\u001b[0m\u001b[0m\n\u001b[0m\u001b[1;32m     19\u001b[0m \u001b[0;34m\u001b[0m\u001b[0m\n\u001b[1;32m     20\u001b[0m     \u001b[0;31m# now generate samples and calculate the energy\u001b[0m\u001b[0;34m\u001b[0m\u001b[0;34m\u001b[0m\u001b[0;34m\u001b[0m\u001b[0m\n",
      "\u001b[0;32m/content/RBM_helper.py\u001b[0m in \u001b[0;36mtrain\u001b[0;34m(self, input_data, k, batch_size, lr)\u001b[0m\n\u001b[1;32m    125\u001b[0m \u001b[0;34m\u001b[0m\u001b[0m\n\u001b[1;32m    126\u001b[0m         \u001b[0;32mfor\u001b[0m \u001b[0mb\u001b[0m \u001b[0;32min\u001b[0m \u001b[0mrange\u001b[0m\u001b[0;34m(\u001b[0m\u001b[0mnum_batches\u001b[0m\u001b[0;34m)\u001b[0m\u001b[0;34m:\u001b[0m\u001b[0;34m\u001b[0m\u001b[0;34m\u001b[0m\u001b[0m\n\u001b[0;32m--> 127\u001b[0;31m             \u001b[0mall_gradients\u001b[0m \u001b[0;34m=\u001b[0m \u001b[0mself\u001b[0m\u001b[0;34m.\u001b[0m\u001b[0mcompute_batch_gradients\u001b[0m\u001b[0;34m(\u001b[0m\u001b[0mk\u001b[0m\u001b[0;34m,\u001b[0m \u001b[0mpos_batches\u001b[0m\u001b[0;34m[\u001b[0m\u001b[0mb\u001b[0m\u001b[0;34m]\u001b[0m\u001b[0;34m,\u001b[0m \u001b[0mneg_batches\u001b[0m\u001b[0;34m[\u001b[0m\u001b[0mb\u001b[0m\u001b[0;34m]\u001b[0m\u001b[0;34m)\u001b[0m\u001b[0;34m\u001b[0m\u001b[0;34m\u001b[0m\u001b[0m\n\u001b[0m\u001b[1;32m    128\u001b[0m \u001b[0;34m\u001b[0m\u001b[0m\n\u001b[1;32m    129\u001b[0m             \u001b[0mself\u001b[0m\u001b[0;34m.\u001b[0m\u001b[0mupdate_params\u001b[0m\u001b[0;34m(\u001b[0m\u001b[0mall_gradients\u001b[0m\u001b[0;34m,\u001b[0m \u001b[0mlr\u001b[0m\u001b[0;34m)\u001b[0m\u001b[0;34m\u001b[0m\u001b[0;34m\u001b[0m\u001b[0m\n",
      "\u001b[0;32m/content/RBM_helper.py\u001b[0m in \u001b[0;36mcompute_batch_gradients\u001b[0;34m(self, k, pos_phase_batch, neg_phase_batch)\u001b[0m\n\u001b[1;32m     93\u001b[0m         \u001b[0mgrads_W\u001b[0m\u001b[0;34m,\u001b[0m \u001b[0mgrads_vb\u001b[0m\u001b[0;34m,\u001b[0m \u001b[0mgrads_hb\u001b[0m \u001b[0;34m=\u001b[0m \u001b[0mself\u001b[0m\u001b[0;34m.\u001b[0m\u001b[0mgradients\u001b[0m\u001b[0;34m(\u001b[0m\u001b[0mpos_phase_batch\u001b[0m\u001b[0;34m)\u001b[0m\u001b[0;34m\u001b[0m\u001b[0;34m\u001b[0m\u001b[0m\n\u001b[1;32m     94\u001b[0m \u001b[0;34m\u001b[0m\u001b[0m\n\u001b[0;32m---> 95\u001b[0;31m         \u001b[0mvk\u001b[0m \u001b[0;34m=\u001b[0m \u001b[0mself\u001b[0m\u001b[0;34m.\u001b[0m\u001b[0mdraw_samples\u001b[0m\u001b[0;34m(\u001b[0m\u001b[0mk\u001b[0m\u001b[0;34m,\u001b[0m \u001b[0mneg_phase_batch\u001b[0m\u001b[0;34m)\u001b[0m\u001b[0;34m\u001b[0m\u001b[0;34m\u001b[0m\u001b[0m\n\u001b[0m\u001b[1;32m     96\u001b[0m         \u001b[0mneg_grads_W\u001b[0m\u001b[0;34m,\u001b[0m \u001b[0mneg_grads_vb\u001b[0m\u001b[0;34m,\u001b[0m \u001b[0mneg_grads_hb\u001b[0m \u001b[0;34m=\u001b[0m \u001b[0mself\u001b[0m\u001b[0;34m.\u001b[0m\u001b[0mgradients\u001b[0m\u001b[0;34m(\u001b[0m\u001b[0mvk\u001b[0m\u001b[0;34m)\u001b[0m\u001b[0;34m\u001b[0m\u001b[0;34m\u001b[0m\u001b[0m\n\u001b[1;32m     97\u001b[0m \u001b[0;34m\u001b[0m\u001b[0m\n",
      "\u001b[0;32m/content/RBM_helper.py\u001b[0m in \u001b[0;36mdraw_samples\u001b[0;34m(self, k, initial_state)\u001b[0m\n\u001b[1;32m     75\u001b[0m         \u001b[0;32mfor\u001b[0m \u001b[0m_\u001b[0m \u001b[0;32min\u001b[0m \u001b[0mrange\u001b[0m\u001b[0;34m(\u001b[0m\u001b[0mk\u001b[0m\u001b[0;34m)\u001b[0m\u001b[0;34m:\u001b[0m\u001b[0;34m\u001b[0m\u001b[0;34m\u001b[0m\u001b[0m\n\u001b[1;32m     76\u001b[0m             \u001b[0mh\u001b[0m \u001b[0;34m=\u001b[0m \u001b[0mself\u001b[0m\u001b[0;34m.\u001b[0m\u001b[0msample_h_given_v\u001b[0m\u001b[0;34m(\u001b[0m\u001b[0mv\u001b[0m\u001b[0;34m)\u001b[0m\u001b[0;34m\u001b[0m\u001b[0;34m\u001b[0m\u001b[0m\n\u001b[0;32m---> 77\u001b[0;31m             \u001b[0mv\u001b[0m \u001b[0;34m=\u001b[0m \u001b[0mself\u001b[0m\u001b[0;34m.\u001b[0m\u001b[0msample_v_given_h\u001b[0m\u001b[0;34m(\u001b[0m\u001b[0mh\u001b[0m\u001b[0;34m)\u001b[0m\u001b[0;34m\u001b[0m\u001b[0;34m\u001b[0m\u001b[0m\n\u001b[0m\u001b[1;32m     78\u001b[0m \u001b[0;34m\u001b[0m\u001b[0m\n\u001b[1;32m     79\u001b[0m         \u001b[0;32mreturn\u001b[0m \u001b[0mv\u001b[0m\u001b[0;34m\u001b[0m\u001b[0;34m\u001b[0m\u001b[0m\n",
      "\u001b[0;32m/content/RBM_helper.py\u001b[0m in \u001b[0;36msample_v_given_h\u001b[0;34m(self, h)\u001b[0m\n\u001b[1;32m     61\u001b[0m     \u001b[0;32mdef\u001b[0m \u001b[0msample_v_given_h\u001b[0m\u001b[0;34m(\u001b[0m\u001b[0mself\u001b[0m\u001b[0;34m,\u001b[0m \u001b[0mh\u001b[0m\u001b[0;34m)\u001b[0m\u001b[0;34m:\u001b[0m\u001b[0;34m\u001b[0m\u001b[0;34m\u001b[0m\u001b[0m\n\u001b[1;32m     62\u001b[0m         \u001b[0mv\u001b[0m \u001b[0;34m=\u001b[0m \u001b[0mself\u001b[0m\u001b[0;34m.\u001b[0m\u001b[0mprob_v_given_h\u001b[0m\u001b[0;34m(\u001b[0m\u001b[0mh\u001b[0m\u001b[0;34m)\u001b[0m\u001b[0;34m\u001b[0m\u001b[0;34m\u001b[0m\u001b[0m\n\u001b[0;32m---> 63\u001b[0;31m         \u001b[0mv\u001b[0m \u001b[0;34m=\u001b[0m \u001b[0mtorch\u001b[0m\u001b[0;34m.\u001b[0m\u001b[0mbernoulli\u001b[0m\u001b[0;34m(\u001b[0m\u001b[0mv\u001b[0m\u001b[0;34m)\u001b[0m  \u001b[0;31m# overwrite v with its sample\u001b[0m\u001b[0;34m\u001b[0m\u001b[0;34m\u001b[0m\u001b[0m\n\u001b[0m\u001b[1;32m     64\u001b[0m         \u001b[0;32mreturn\u001b[0m \u001b[0mv\u001b[0m\u001b[0;34m\u001b[0m\u001b[0;34m\u001b[0m\u001b[0m\n\u001b[1;32m     65\u001b[0m \u001b[0;34m\u001b[0m\u001b[0m\n",
      "\u001b[0;31mKeyboardInterrupt\u001b[0m: "
     ]
    }
   ],
   "source": [
    "epochs = 500\n",
    "num_samples = 2000\n",
    "\n",
    "exact_energy = -4.1203519096\n",
    "print(\"Exact energy: \",exact_energy)\n",
    "\n",
    "diff_thresh = 1e-4\n",
    "\n",
    "plot_title = f\"{n_hin} hidden layers; training with {use_n_samples} samples\"\n",
    "plotter = Plotters.XYPlotter(href=diff_thresh,\n",
    "                             title=plot_title,\n",
    "                             x_label=\"Epoch\",\n",
    "                             y_label=\"Energy difference\")\n",
    "%matplotlib inline\n",
    "\n",
    "for e in range(1, epochs+1):\n",
    "    # do one epoch of training\n",
    "    rbm.train(training_data[:use_n_samples])   \n",
    " \n",
    "    # now generate samples and calculate the energy\n",
    "    if e % 10 == 0:\n",
    "        print(\"\\nEpoch: \", e)\n",
    "        print(\"Sampling...\")\n",
    "\n",
    "        init_state = torch.zeros(num_samples, n_vis)\n",
    "        RBM_samples = rbm.draw_samples(100, init_state)\n",
    "\n",
    "        print(\"Done sampling. Calculating energy...\") \n",
    " \n",
    "        energies = Rydberg_energy_calculator.energy(RBM_samples, rbm.wavefunction) \n",
    "        print(\"Energy from RBM samples: \", energies.item())\n",
    "\n",
    "        plotter.update(e, abs(energies.item() - exact_energy))\n",
    "\n",
    "        # stopping criterion\n",
    "        if abs(energies.item() - exact_energy) < diff_thresh:\n",
    "            print(f'Algorithm stopped after {e} epochs with energy estimation {energies.item()}')"
   ]
  },
  {
   "cell_type": "code",
   "execution_count": 25,
   "metadata": {
    "colab": {},
    "colab_type": "code",
    "id": "BdU_PmrvVVD2"
   },
   "outputs": [],
   "source": []
  }
 ],
 "metadata": {
  "colab": {
   "collapsed_sections": [],
   "name": "Task2.ipynb",
   "provenance": [],
   "toc_visible": true
  },
  "kernelspec": {
   "display_name": "Python 3",
   "language": "python",
   "name": "python3"
  },
  "language_info": {
   "codemirror_mode": {
    "name": "ipython",
    "version": 3
   },
   "file_extension": ".py",
   "mimetype": "text/x-python",
   "name": "python",
   "nbconvert_exporter": "python",
   "pygments_lexer": "ipython3",
   "version": "3.7.7"
  },
  "toc": {
   "base_numbering": 1,
   "nav_menu": {},
   "number_sections": true,
   "sideBar": true,
   "skip_h1_title": false,
   "title_cell": "Table of Contents",
   "title_sidebar": "Contents",
   "toc_cell": false,
   "toc_position": {},
   "toc_section_display": true,
   "toc_window_display": false
  },
  "varInspector": {
   "cols": {
    "lenName": 16,
    "lenType": 16,
    "lenVar": 40
   },
   "kernels_config": {
    "python": {
     "delete_cmd_postfix": "",
     "delete_cmd_prefix": "del ",
     "library": "var_list.py",
     "varRefreshCmd": "print(var_dic_list())"
    },
    "r": {
     "delete_cmd_postfix": ") ",
     "delete_cmd_prefix": "rm(",
     "library": "var_list.r",
     "varRefreshCmd": "cat(var_dic_list()) "
    }
   },
   "types_to_exclude": [
    "module",
    "function",
    "builtin_function_or_method",
    "instance",
    "_Feature"
   ],
   "window_display": false
  }
 },
 "nbformat": 4,
 "nbformat_minor": 1
}
