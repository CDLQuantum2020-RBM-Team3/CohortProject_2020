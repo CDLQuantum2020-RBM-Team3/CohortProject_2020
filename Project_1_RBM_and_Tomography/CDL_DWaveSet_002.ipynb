{
 "cells": [
  {
   "cell_type": "markdown",
   "metadata": {
    "colab_type": "text",
    "id": "nqrr7ZlrpBgt"
   },
   "source": [
    "# Cohort Project - DWave Data Set - Work Notebook\n",
    "\n",
    "Three main sections:\n",
    "\n",
    "> 1) Data loader for the Cohort Project DWave data files provided. No solver code implemented yet.\n",
    "\n",
    "> 2) Sanity check of the DWave ocean library\n",
    "\n",
    "> 3) An attempt at implementing a H2 ground state calculator leveraging the paper arXiv:1611.01068v1 [quant-ph] 3 Nov 2016\n",
    "\n",
    "\n",
    "\n",
    "\n",
    "\n"
   ]
  },
  {
   "cell_type": "code",
   "execution_count": 1,
   "metadata": {
    "colab": {
     "base_uri": "https://localhost:8080/",
     "height": 808
    },
    "colab_type": "code",
    "id": "iW9g5Ffbfz9g",
    "outputId": "90cf3c0e-5917-4658-e944-385bb74ed0bb"
   },
   "outputs": [
    {
     "name": "stdout",
     "output_type": "stream",
     "text": [
      "Collecting dwave-ocean-sdk\n",
      "  Downloading dwave_ocean_sdk-2.3.0-py3-none-any.whl (6.9 kB)\n",
      "Collecting dimod==0.9.3\n",
      "  Downloading dimod-0.9.3-cp37-cp37m-win_amd64.whl (1.7 MB)\n",
      "Collecting dwave-hybrid==0.5.0\n",
      "  Downloading dwave_hybrid-0.5.0-py3-none-any.whl (90 kB)\n",
      "Collecting penaltymodel==0.16.3\n",
      "  Downloading penaltymodel-0.16.3-py3-none-any.whl (13 kB)\n",
      "Collecting dwave-inspector==0.2.2\n",
      "  Downloading dwave_inspector-0.2.2-py3-none-any.whl (24 kB)\n",
      "Collecting dwave-neal==0.5.4\n",
      "  Downloading dwave_neal-0.5.4-cp37-cp37m-win_amd64.whl (85 kB)\n",
      "Collecting dwavebinarycsp==0.1.2\n",
      "  Downloading dwavebinarycsp-0.1.2-py3-none-any.whl (35 kB)\n",
      "Collecting dwave-qbsolv==0.3.0\n",
      "  Downloading dwave_qbsolv-0.3.0-cp37-cp37m-win_amd64.whl (57 kB)\n",
      "Collecting pyqubo>=0.4.0\n",
      "  Downloading pyqubo-0.4.0.tar.gz (33 kB)\n",
      "Collecting dwave-cloud-client==0.7.3\n",
      "  Downloading dwave_cloud_client-0.7.3-py2.py3-none-any.whl (83 kB)\n",
      "Collecting dwave-tabu==0.3.0\n",
      "  Downloading dwave_tabu-0.3.0-cp37-cp37m-win_amd64.whl (113 kB)\n",
      "Collecting minorminer==0.1.9\n",
      "  Downloading minorminer-0.1.9-cp37-cp37m-win_amd64.whl (298 kB)\n",
      "Collecting penaltymodel-lp==0.1.3\n",
      "  Downloading penaltymodel_lp-0.1.3-py3-none-any.whl (7.3 kB)\n",
      "Collecting dwave-networkx==0.8.6\n",
      "  Downloading dwave_networkx-0.8.6-py2.py3-none-any.whl (81 kB)\n",
      "Collecting penaltymodel-cache==0.4.1\n",
      "  Downloading penaltymodel_cache-0.4.1-py3-none-any.whl (11 kB)\n",
      "Collecting penaltymodel-mip==0.2.3; platform_machine == \"x86_64\" or platform_machine == \"amd64\" or platform_machine == \"AMD64\"\n",
      "  Downloading penaltymodel_mip-0.2.3-py3-none-any.whl (7.7 kB)\n",
      "Collecting dwave-system==0.9.6\n",
      "  Downloading dwave_system-0.9.6-py3-none-any.whl (87 kB)\n",
      "Requirement already satisfied: numpy<2.0.0,>=1.16.0 in c:\\programdata\\miniconda3\\envs\\pyq\\lib\\site-packages (from dimod==0.9.3->dwave-ocean-sdk) (1.19.0)\n",
      "Requirement already satisfied: networkx in c:\\programdata\\miniconda3\\envs\\pyq\\lib\\site-packages (from dwave-hybrid==0.5.0->dwave-ocean-sdk) (2.4)\n",
      "Collecting plucky>=0.4.3\n",
      "  Downloading plucky-0.4.3-py2.py3-none-any.whl (10 kB)\n",
      "Collecting click>5\n",
      "  Downloading click-7.1.2-py2.py3-none-any.whl (82 kB)\n",
      "Requirement already satisfied: six<2.0.0,>=1.11.0 in c:\\programdata\\miniconda3\\envs\\pyq\\lib\\site-packages (from penaltymodel==0.16.3->dwave-ocean-sdk) (1.15.0)\n",
      "Collecting Flask>=1.1.1\n",
      "  Downloading Flask-1.1.2-py2.py3-none-any.whl (94 kB)\n",
      "Requirement already satisfied: python-dateutil>=2.7 in c:\\programdata\\miniconda3\\envs\\pyq\\lib\\site-packages (from dwave-cloud-client==0.7.3->dwave-ocean-sdk) (2.8.1)\n",
      "Collecting homebase>=1.0\n",
      "  Downloading homebase-1.0.1-py2.py3-none-any.whl (11 kB)\n",
      "Requirement already satisfied: requests[socks]>=2.18 in c:\\programdata\\miniconda3\\envs\\pyq\\lib\\site-packages (from dwave-cloud-client==0.7.3->dwave-ocean-sdk) (2.24.0)\n",
      "Requirement already satisfied: scipy<2.0.0,>=0.15.0 in c:\\programdata\\miniconda3\\envs\\pyq\\lib\\site-packages (from penaltymodel-lp==0.1.3->dwave-ocean-sdk) (1.5.0)\n",
      "Requirement already satisfied: decorator<5.0.0,>=4.1.0 in c:\\programdata\\miniconda3\\envs\\pyq\\lib\\site-packages (from dwave-networkx==0.8.6->dwave-ocean-sdk) (4.4.2)\n",
      "Collecting ortools<8.0.0,>=6.6.4659\n",
      "  Downloading ortools-7.7.7810-cp37-cp37m-win_amd64.whl (25.8 MB)\n",
      "Collecting itsdangerous>=0.24\n",
      "  Downloading itsdangerous-1.1.0-py2.py3-none-any.whl (16 kB)\n",
      "Collecting Werkzeug>=0.15\n",
      "  Downloading Werkzeug-1.0.1-py2.py3-none-any.whl (298 kB)\n",
      "Requirement already satisfied: Jinja2>=2.10.1 in c:\\programdata\\miniconda3\\envs\\pyq\\lib\\site-packages (from Flask>=1.1.1->dwave-inspector==0.2.2->dwave-ocean-sdk) (2.11.2)\n",
      "Requirement already satisfied: chardet<4,>=3.0.2 in c:\\programdata\\miniconda3\\envs\\pyq\\lib\\site-packages (from requests[socks]>=2.18->dwave-cloud-client==0.7.3->dwave-ocean-sdk) (3.0.4)\n",
      "Requirement already satisfied: certifi>=2017.4.17 in c:\\programdata\\miniconda3\\envs\\pyq\\lib\\site-packages (from requests[socks]>=2.18->dwave-cloud-client==0.7.3->dwave-ocean-sdk) (2020.6.20)\n",
      "Requirement already satisfied: urllib3!=1.25.0,!=1.25.1,<1.26,>=1.21.1 in c:\\programdata\\miniconda3\\envs\\pyq\\lib\\site-packages (from requests[socks]>=2.18->dwave-cloud-client==0.7.3->dwave-ocean-sdk) (1.25.9)\n",
      "Requirement already satisfied: idna<3,>=2.5 in c:\\programdata\\miniconda3\\envs\\pyq\\lib\\site-packages (from requests[socks]>=2.18->dwave-cloud-client==0.7.3->dwave-ocean-sdk) (2.9)\n",
      "Requirement already satisfied: PySocks!=1.5.7,>=1.5.6; extra == \"socks\" in c:\\programdata\\miniconda3\\envs\\pyq\\lib\\site-packages (from requests[socks]>=2.18->dwave-cloud-client==0.7.3->dwave-ocean-sdk) (1.7.1)\n",
      "Collecting protobuf>=3.12.2\n",
      "  Downloading protobuf-3.12.2-cp37-cp37m-win_amd64.whl (1.0 MB)\n",
      "Requirement already satisfied: MarkupSafe>=0.23 in c:\\programdata\\miniconda3\\envs\\pyq\\lib\\site-packages (from Jinja2>=2.10.1->Flask>=1.1.1->dwave-inspector==0.2.2->dwave-ocean-sdk) (1.1.1)\n",
      "Requirement already satisfied: setuptools in c:\\programdata\\miniconda3\\envs\\pyq\\lib\\site-packages (from protobuf>=3.12.2->ortools<8.0.0,>=6.6.4659->penaltymodel-mip==0.2.3; platform_machine == \"x86_64\" or platform_machine == \"amd64\" or platform_machine == \"AMD64\"->dwave-ocean-sdk) (47.3.1.post20200622)\n",
      "Building wheels for collected packages: pyqubo\n",
      "  Building wheel for pyqubo (setup.py): started\n",
      "  Building wheel for pyqubo (setup.py): finished with status 'done'\n",
      "  Created wheel for pyqubo: filename=pyqubo-0.4.0-py3-none-any.whl size=40716 sha256=25fce43bf0500ea83b8379a82004d5d75bb2c95a29d9ce5736f230d6a1935c1b\n",
      "  Stored in directory: c:\\users\\jmalliaros\\appdata\\local\\pip\\cache\\wheels\\9a\\bf\\48\\609adb825c687d2d29e066909309a779039cd83fd8fd1244ad\n",
      "Successfully built pyqubo\n",
      "Installing collected packages: dimod, click, plucky, homebase, dwave-cloud-client, dwave-networkx, minorminer, dwave-tabu, dwave-system, dwave-neal, dwave-hybrid, penaltymodel, itsdangerous, Werkzeug, Flask, dwave-inspector, penaltymodel-cache, penaltymodel-lp, dwavebinarycsp, dwave-qbsolv, pyqubo, protobuf, ortools, penaltymodel-mip, dwave-ocean-sdk\n",
      "Successfully installed Flask-1.1.2 Werkzeug-1.0.1 click-7.1.2 dimod-0.9.3 dwave-cloud-client-0.7.3 dwave-hybrid-0.5.0 dwave-inspector-0.2.2 dwave-neal-0.5.4 dwave-networkx-0.8.6 dwave-ocean-sdk-2.3.0 dwave-qbsolv-0.3.0 dwave-system-0.9.6 dwave-tabu-0.3.0 dwavebinarycsp-0.1.2 homebase-1.0.1 itsdangerous-1.1.0 minorminer-0.1.9 ortools-7.7.7810 penaltymodel-0.16.3 penaltymodel-cache-0.4.1 penaltymodel-lp-0.1.3 penaltymodel-mip-0.2.3 plucky-0.4.3 protobuf-3.12.2 pyqubo-0.4.0\n"
     ]
    }
   ],
   "source": [
    "!pip install dwave-ocean-sdk"
   ]
  },
  {
   "cell_type": "code",
   "execution_count": 2,
   "metadata": {
    "colab": {
     "base_uri": "https://localhost:8080/",
     "height": 146
    },
    "colab_type": "code",
    "id": "g0gkWWI6vLYI",
    "outputId": "a6a95d1a-ad63-4351-b5fe-069177568e1f"
   },
   "outputs": [
    {
     "name": "stderr",
     "output_type": "stream",
     "text": [
      "'ls' is not recognized as an internal or external command,\n",
      "operable program or batch file.\n",
      "'ls' is not recognized as an internal or external command,\n",
      "operable program or batch file.\n"
     ]
    }
   ],
   "source": [
    "# Copy files locally from a google drive account in Colab\n",
    "# \n",
    "# SET THE PATH APPLICABLE TO YOUR LOCAL ENVIRONMENT\n",
    "#\n",
    "# 1 - Mount your Google drive in Colab\n",
    "# 2 - Set the path below\n",
    "# 3 - Test without the cp line first\n",
    "# 4 - Comment out the cp command line after verifying that the ls was successful\n",
    "\n",
    "path = \"drive/'My Drive'/Quantum-CDL/DWaveDataSet/IsingSamplesDW\"\n",
    "!ls $path/*\n",
    "#!cp -r $path/* .\n",
    "\n",
    "path2 = \"drive/'My Drive'/Quantum-CDL/DWaveDataSet/IsingHamiltonian\"\n",
    "!ls $path2/*\n",
    "#!cp -r $path2/* .\n",
    "\n"
   ]
  },
  {
   "cell_type": "code",
   "execution_count": 5,
   "metadata": {
    "colab": {},
    "colab_type": "code",
    "id": "8S9CKZDGpSOu"
   },
   "outputs": [
    {
     "ename": "ModuleNotFoundError",
     "evalue": "No module named 'helper'",
     "output_type": "error",
     "traceback": [
      "\u001b[1;31m---------------------------------------------------------------------------\u001b[0m",
      "\u001b[1;31mModuleNotFoundError\u001b[0m                       Traceback (most recent call last)",
      "\u001b[1;32m<ipython-input-5-1a83e4697203>\u001b[0m in \u001b[0;36m<module>\u001b[1;34m\u001b[0m\n\u001b[0;32m      1\u001b[0m \u001b[1;32mimport\u001b[0m \u001b[0mnumpy\u001b[0m \u001b[1;32mas\u001b[0m \u001b[0mnp\u001b[0m\u001b[1;33m\u001b[0m\u001b[1;33m\u001b[0m\u001b[0m\n\u001b[1;32m----> 2\u001b[1;33m \u001b[1;32mimport\u001b[0m \u001b[0mhelper\u001b[0m \u001b[1;32mas\u001b[0m \u001b[0mdw\u001b[0m\u001b[1;33m\u001b[0m\u001b[1;33m\u001b[0m\u001b[0m\n\u001b[0m\u001b[0;32m      3\u001b[0m \u001b[1;32mimport\u001b[0m \u001b[0mcsv\u001b[0m\u001b[1;33m\u001b[0m\u001b[1;33m\u001b[0m\u001b[0m\n",
      "\u001b[1;31mModuleNotFoundError\u001b[0m: No module named 'helper'"
     ]
    }
   ],
   "source": [
    "import numpy as np\n",
    "import helper as dw\n",
    "import csv "
   ]
  },
  {
   "cell_type": "markdown",
   "metadata": {
    "colab_type": "text",
    "id": "HLMj7XpcveGf"
   },
   "source": [
    "## Load the Training and Validation data from the DWave npz file\n"
   ]
  },
  {
   "cell_type": "code",
   "execution_count": 4,
   "metadata": {
    "colab": {},
    "colab_type": "code",
    "id": "21PIUaMBqFcF"
   },
   "outputs": [
    {
     "ename": "NameError",
     "evalue": "name 'dw' is not defined",
     "output_type": "error",
     "traceback": [
      "\u001b[1;31m---------------------------------------------------------------------------\u001b[0m",
      "\u001b[1;31mNameError\u001b[0m                                 Traceback (most recent call last)",
      "\u001b[1;32m<ipython-input-4-e60f26eb3d92>\u001b[0m in \u001b[0;36m<module>\u001b[1;34m\u001b[0m\n\u001b[1;32m----> 1\u001b[1;33m \u001b[0mtrain\u001b[0m\u001b[1;33m,\u001b[0m \u001b[0mval\u001b[0m \u001b[1;33m=\u001b[0m \u001b[0mdw\u001b[0m\u001b[1;33m.\u001b[0m\u001b[0mload_dataset\u001b[0m\u001b[1;33m(\u001b[0m\u001b[1;34m\"dataset_x1a46w3557od23s750k9.npz\"\u001b[0m\u001b[1;33m)\u001b[0m\u001b[1;33m\u001b[0m\u001b[1;33m\u001b[0m\u001b[0m\n\u001b[0m",
      "\u001b[1;31mNameError\u001b[0m: name 'dw' is not defined"
     ]
    }
   ],
   "source": [
    "train, val = dw.load_dataset(\"dataset_x1a46w3557od23s750k9.npz\")"
   ]
  },
  {
   "cell_type": "code",
   "execution_count": 24,
   "metadata": {
    "colab": {
     "base_uri": "https://localhost:8080/",
     "height": 90
    },
    "colab_type": "code",
    "id": "HiiN97gJshmj",
    "outputId": "30a00ced-8367-4a03-f4e6-2467041743bb"
   },
   "outputs": [
    {
     "name": "stdout",
     "output_type": "stream",
     "text": [
      "[0 0 1 ... 1 1 0]\n",
      "[0 0 1 ... 1 1 0]\n",
      "(40000, 2041)\n",
      "(10000, 2041)\n"
     ]
    }
   ],
   "source": [
    "print(train[0])\n",
    "print(val[0])\n",
    "\n",
    "print (train.shape)\n",
    "print (val.shape)"
   ]
  },
  {
   "cell_type": "markdown",
   "metadata": {
    "colab_type": "text",
    "id": "vyCEiAigvvWb"
   },
   "source": [
    "## Load the correlated features csv data"
   ]
  },
  {
   "cell_type": "code",
   "execution_count": 28,
   "metadata": {
    "colab": {
     "base_uri": "https://localhost:8080/",
     "height": 35
    },
    "colab_type": "code",
    "id": "974n0abts486",
    "outputId": "1160d52a-d1cd-4710-80ee-7d807ef93158"
   },
   "outputs": [
    {
     "name": "stdout",
     "output_type": "stream",
     "text": [
      "5975\n"
     ]
    }
   ],
   "source": [
    "corr_feat = []\n",
    "with open('correlated_features.csv', newline='') as csvfile:\n",
    "  reader = csv.reader(csvfile, delimiter=',')\n",
    "  for row in reader:\n",
    "    corr_feat.append(row)\n",
    "\n",
    "print (len(corr_feat))\n",
    "\n",
    "#for r in corr_feat:\n",
    "#  print (r[0],r[1],r[2])\n",
    "\n"
   ]
  },
  {
   "cell_type": "markdown",
   "metadata": {
    "colab_type": "text",
    "id": "0LssdN6rv5DU"
   },
   "source": [
    "## DWave library check\n",
    "\n",
    "Note: Libraries used do not actually run on the QPU but uses Tabu sampler library\n"
   ]
  },
  {
   "cell_type": "code",
   "execution_count": null,
   "metadata": {
    "colab": {},
    "colab_type": "code",
    "id": "plf3TUSquKOg"
   },
   "outputs": [],
   "source": [
    "import networkx as nx\n",
    "from collections import defaultdict\n",
    "from dimod import BinaryQuadraticModel\n",
    "from tabu import TabuSampler\n",
    "import dimod"
   ]
  },
  {
   "cell_type": "code",
   "execution_count": null,
   "metadata": {
    "colab": {
     "base_uri": "https://localhost:8080/",
     "height": 72
    },
    "colab_type": "code",
    "id": "DifIe8t88ACj",
    "outputId": "9bddaefc-39db-439f-cdbf-022afa6cf71d"
   },
   "outputs": [
    {
     "name": "stdout",
     "output_type": "stream",
     "text": [
      "   a  b energy num_oc.\n",
      "0 -1 -1   -1.5       1\n",
      "['SPIN', 1 rows, 1 samples, 2 variables]\n"
     ]
    }
   ],
   "source": [
    "# Sanity check using TabuSampler (not on the QPU)\n",
    "\n",
    "response = TabuSampler().sample_ising({'a': -0.5, 'b': 1.0}, {('a', 'b'): -1})\n",
    "\n",
    "print(response)\n",
    "\n",
    "\n"
   ]
  },
  {
   "cell_type": "code",
   "execution_count": null,
   "metadata": {
    "colab": {
     "base_uri": "https://localhost:8080/",
     "height": 90
    },
    "colab_type": "code",
    "id": "11iHecNZrrB2",
    "outputId": "a9db2589-8504-4ba8-f670-e53804927927"
   },
   "outputs": [
    {
     "name": "stdout",
     "output_type": "stream",
     "text": [
      "   0  1  2  3 energy num_oc.\n",
      "0  1  0  0  1  -11.0       1\n",
      "['BINARY', 1 rows, 1 samples, 4 variables]\n",
      "-11.0\n"
     ]
    }
   ],
   "source": [
    "Q = defaultdict(int)\n",
    "sampler = TabuSampler()\n",
    "offset = 0\n",
    "\n",
    "# Solve y = -5 xa -3 xb -8 xc -6 xd + 4 xaxb + 8 xaxc + 2 xbxc + 10 xcxd\n",
    "# Answer should be -11 for qubits 1, 0, 0, 1\n",
    "\n",
    "Q = [(-6, 5, 0, 0), (5,-8,1,4), (0,1,-3,2), (0,4,2,-5)]\n",
    "\n",
    "bqm = BinaryQuadraticModel.from_qubo(Q, offset=offset)\n",
    "sampleset = sampler.sample(bqm)\n",
    "print(sampleset)\n",
    "print(sampleset.first.energy)\n"
   ]
  },
  {
   "cell_type": "code",
   "execution_count": null,
   "metadata": {
    "colab": {},
    "colab_type": "code",
    "id": "lJL9hUEN7EXi"
   },
   "outputs": [],
   "source": []
  },
  {
   "cell_type": "markdown",
   "metadata": {
    "colab_type": "text",
    "id": "LgB-_TdQ_8kp"
   },
   "source": [
    "# Experimenting for H2 Energy Calculations\n",
    "\n",
    "## Implementing Hamiltonian for calculating H2 Energies\n",
    "\n",
    "\n",
    "\n",
    "\n",
    "\n",
    "\n"
   ]
  },
  {
   "cell_type": "markdown",
   "metadata": {
    "colab_type": "text",
    "id": "NQUEUmrrzEaS"
   },
   "source": [
    "### Work in progress - Status\n",
    "\n",
    "At this stage the results do not match the target exact numbers. The code will need reviewing. One peculiar outcome is that results obtained for row N strangely coincide with the target on row N+1. \n",
    "\n",
    "See results the \"Process\" header further below.\n"
   ]
  },
  {
   "cell_type": "markdown",
   "metadata": {
    "colab_type": "text",
    "id": "46n_8IGtQ7UA"
   },
   "source": [
    "[Description 1](https://drive.google.com/file/d/18dx3Pkg_2QKfJL6LLsaTuAQoMfofCrpN/view?usp=sharing)"
   ]
  },
  {
   "cell_type": "markdown",
   "metadata": {
    "colab_type": "text",
    "id": "EXdeMWFmQsRZ"
   },
   "source": [
    "[Description 2](https://drive.google.com/file/d/1clVgCZbR9aieIrd4SDvwIxwzI7t_el8O/view?usp=sharing)"
   ]
  },
  {
   "cell_type": "markdown",
   "metadata": {
    "colab_type": "text",
    "id": "m2QeeaupL4eq"
   },
   "source": [
    "We can use this symmetry to reduce the\n",
    "Hamiltonian to the following effective Hamiltonian, acting only on two qubits:\n",
    "HH2 = g01 + g1σ0\n",
    "z + g2σ1\n",
    "z + g3σ0\n",
    "zσ1\n",
    "z + g4σ0\n",
    "xσ1\n",
    "x + g4σ0\n",
    "yσ1\n",
    "y\n",
    "= g01 + H0\n",
    "(4)\n",
    "H0 = g1σ0\n",
    "z + g2σ1\n",
    "z + g3σ0\n",
    "zσ1\n",
    "z + g4σ0\n",
    "xσ1\n",
    "x + g4σ0\n",
    "yσ1\n",
    "y (5)\n",
    "By squaring the Hamiltonian H0 and modifying it, one can get a new Ising Hamiltonian:\n",
    "\n",
    "\n",
    "\n",
    "H1 = H2\n",
    "0 + 2g3H0 = \n",
    "\n",
    "a1 + a2(σ0\n",
    "z + σ1\n",
    "z ) + a3σ0\n",
    "zσ1\n",
    "z (6)\n",
    "\n",
    "With:\n",
    "a1 = g2\n",
    "1 + g2\n",
    "2 + g2\n",
    "3 + 2g2\n",
    "4; a2 = 2(g1 + g2)g3; a3 = 2(g1g2 − g2\n",
    "4 + g2\n",
    "3) (7)\n",
    "\n",
    "Here we present steps to get the ground state of HH2 by using the new Ising Hamiltonian H1 (Eq.6).\n",
    "1. If |g1| + |g2| + |g4| < |g3| start computing by H1 and get the result Y . Otherwise increase |g3| by\n",
    "|g1| + |g2| + |g4| and start computing.\n",
    "2. Solve equation x2 + 2g3x = Y and get σ1\n",
    "x and σ2\n",
    "x (σ1\n",
    "x <= σ2\n",
    "x). Add |g1| + |g2| + |g4| to σ1\n",
    "x if added to g3\n",
    "before (we just assume g3 > 0.) Compare σ1\n",
    "x with g3 − g1 − g2 (or g3 + g1 + g2) to get the ground state of\n",
    "H0. Add g0 to get the ground state of HH2 .\n"
   ]
  },
  {
   "cell_type": "markdown",
   "metadata": {
    "colab_type": "text",
    "id": "-ARym4ImN_FR"
   },
   "source": [
    "## Class for H2 energy calculation\n",
    "\n",
    "Loads the table file included in the source paper.\n",
    "Calculates the ground state energy given one set of parameters (one row)\n",
    "from the table"
   ]
  },
  {
   "cell_type": "code",
   "execution_count": null,
   "metadata": {
    "colab": {
     "base_uri": "https://localhost:8080/",
     "height": 55
    },
    "colab_type": "code",
    "id": "qUB_X3OyADfk",
    "outputId": "bafbbbc7-2454-40b8-bac4-f9ed0f4c9aa7"
   },
   "outputs": [
    {
     "name": "stdout",
     "output_type": "stream",
     "text": [
      "[[0.6, 1.5943, 0.5132, -1.1008, 0.6598, 0.0809, -0.5703, -0.5703], [0.65, 1.4193, 0.5009, -1.0366, 0.6548, 0.0813, -0.6877, -0.6877], [0.7, 1.2668, 0.4887, -0.9767, 0.6496, 0.0818, -0.7817, -0.7817], [0.75, 1.1329, 0.4767, -0.9208, 0.6444, 0.0824, -0.8575, -0.8575], [0.8, 1.0144, 0.465, -0.8685, 0.639, 0.0829, -0.9188, -0.9188], [0.85, 0.909, 0.4535, -0.8197, 0.6336, 0.0835, -0.9685, -0.9685], [0.9, 0.8146, 0.4422, -0.774, 0.6282, 0.084, -1.0088, -1.0088], [0.95, 0.7297, 0.4313, -0.7312, 0.6227, 0.0846, -1.0415, -1.0415], [1.0, 0.6531, 0.4207, -0.691, 0.6172, 0.0852, -1.0678, -1.0678], [1.05, 0.5836, 0.4103, -0.6533, 0.6117, 0.0859, -1.0889, -1.0889], [1.1, 0.5204, 0.4003, -0.6178, 0.6061, 0.0865, -1.1056, -1.1056], [1.15, 0.4626, 0.3906, -0.5843, 0.6006, 0.0872, -1.1186, -1.1186], [1.2, 0.4098, 0.3811, -0.5528, 0.5951, 0.0879, -1.1285, -1.1285], [1.25, 0.3613, 0.372, -0.523, 0.5897, 0.0886, -1.1358, -1.1358], [1.3, 0.3167, 0.3631, -0.4949, 0.5842, 0.0893, -1.1409, -1.1409], [1.35, 0.2755, 0.3546, -0.4683, 0.5788, 0.09, -1.1441, -1.1441], [1.4, 0.2376, 0.3463, -0.4431, 0.5734, 0.0907, -1.1457, -1.1457], [1.45, 0.2024, 0.3383, -0.4192, 0.5681, 0.0915, -1.1459, -1.1459], [1.5, 0.1699, 0.3305, -0.3966, 0.5628, 0.0922, -1.145, -1.145], [1.55, 0.1397, 0.323, -0.3751, 0.5575, 0.093, -1.1432, -1.1432], [1.6, 0.1116, 0.3157, -0.3548, 0.5524, 0.0938, -1.1405, -1.1405], [1.65, 0.0855, 0.3087, -0.3354, 0.5472, 0.0946, -1.1371, -1.1371], [1.7, 0.0612, 0.3018, -0.317, 0.5422, 0.0954, -1.1332, -1.1332], [1.75, 0.0385, 0.2952, -0.2995, 0.5371, 0.0962, -1.1287, -1.1287], [1.8, 0.0173, 0.2888, -0.2829, 0.5322, 0.097, -1.1239, -1.1239], [1.85, -0.0023, 0.2826, -0.267, 0.5273, 0.0978, -1.1187, -1.1187], [1.9, -0.0208, 0.2766, -0.252, 0.5225, 0.0987, -1.1133, -1.1133], [1.95, -0.0381, 0.2707, -0.2376, 0.5177, 0.0995, -1.1077, -1.1077], [2.0, -0.0543, 0.2651, -0.2238, 0.513, 0.1004, -1.1019, -1.1019], [2.05, -0.0694, 0.2596, -0.2108, 0.5084, 0.1012, -1.0961, -1.0961], [2.1, -0.0837, 0.2542, -0.1983, 0.5039, 0.1021, -1.0901, -1.0901], [2.15, -0.097, 0.249, -0.1863, 0.4994, 0.103, -1.0842, -1.0842], [2.2, -0.1095, 0.244, -0.1749, 0.495, 0.1038, -1.0782, -1.0782], [2.25, -0.1213, 0.2391, -0.164, 0.4906, 0.1047, -1.0723, -1.0723], [2.3, -0.1323, 0.2343, -0.1536, 0.4864, 0.1056, -1.0664, -1.0664], [2.35, -0.1427, 0.2297, -0.1436, 0.4822, 0.1064, -1.0605, -1.0605], [2.4, -0.1524, 0.2252, -0.1341, 0.478, 0.1073, -1.0548, -1.0548], [2.45, -0.1616, 0.2208, -0.125, 0.474, 0.1082, -1.0492, -1.0492], [2.5, -0.1703, 0.2165, -0.1162, 0.47, 0.109, -1.0437, -1.0437], [2.55, -0.1784, 0.2124, -0.1079, 0.466, 0.1099, -1.0383, -1.0383], [2.6, -0.1861, 0.2083, -0.0999, 0.4622, 0.1108, -1.0331, -1.0331], [2.65, -0.1933, 0.2044, -0.0922, 0.4584, 0.1117, -1.028, -1.028], [2.7, -0.2001, 0.2006, -0.0848, 0.4547, 0.1125, -1.0231, -1.0231], [2.75, -0.2064, 0.1968, -0.0778, 0.451, 0.1134, -1.0184, -1.0184], [2.8, -0.2125, 0.1932, -0.071, 0.4475, 0.1142, -1.0139, -1.0139], [2.85, -0.2182, 0.1897, -0.0646, 0.4439, 0.1151, -1.0095, -1.0095], [2.9, -0.2235, 0.1862, -0.0584, 0.4405, 0.1159, -1.0053, -1.0053], [2.95, -0.2286, 0.1829, -0.0524, 0.4371, 0.1168, -1.0013, -1.0013], [3.0, -0.2333, 0.1796, -0.0467, 0.4338, 0.1176, -0.9974, -0.9974], [3.05, -0.2378, 0.1764, -0.0413, 0.4305, 0.1184, -0.9938, -0.9938], [3.1, -0.2421, 0.1733, -0.036, 0.4273, 0.1193, -0.9903, -0.9903]]\n"
     ]
    }
   ],
   "source": [
    "\n",
    "\n",
    "class H2_Energy:\n",
    "\n",
    "  def data(self):\n",
    "    return self.coeff\n",
    "\n",
    "  # Initialize with coefficient data\n",
    "  def __init__(self,file):\n",
    "\n",
    "    self.coeff = []\n",
    "    with open(file, newline='') as csvfile:\n",
    "      reader = csv.reader(csvfile, delimiter=',')\n",
    "      first = True\n",
    "      for row in reader:\n",
    "        if ( first ): \n",
    "          first = False\n",
    "          continue\n",
    "        row = list(map(float, row)) \n",
    "        self.coeff.append(row)\n",
    "\n",
    "  # Solve the energy for the given radius and coefficients\n",
    "\n",
    "  def solve(self,R,g0,g1,g2,g3,g4,samples,exact):\n",
    "\n",
    "    print(\"\\nSolving for R=%f (exact=%f)\" % (R,exact),g0,g1,g2,g3,g4)\n",
    "\n",
    "    # Step 1: If |g1| + |g2| + |g4| >= |g3| : g3 += |g1| + |g2| + |g4|\n",
    "    # Remember the g3 addition for later\n",
    "\n",
    "    g3_addition = 0\n",
    "    if ( abs(g1) + abs(g2) + abs(g4) >= abs(g3)) :\n",
    "      g3_addition = (abs(g1)+abs(g2)+abs(g4))\n",
    "      # g3 = abs(g3) + g3_addition\n",
    "      g3 = (abs(g3) + g3_addition)\n",
    "\n",
    "\n",
    "    # Step 1b: calculate a1, a2, a3\n",
    "    # a1 = g1**2 + g2**2 + g3**2 + 2 * g4**2\n",
    "    # a2 = 2 * ( g1 + g2) * g3\n",
    "    # a3 = 2 * (g1*g2 - g4**2 + g3**2)\n",
    "\n",
    "    a1 = g1**2 + g2**2 + g3**2 + 2 * g4**2\n",
    "    a2 = 2 * ( g1 + g2) * g3\n",
    "    a3 = 2 * (g1*g2 - g4**2 + g3**2)\n",
    "\n",
    "    # Step 2 : Solve H0**2 + 2g3H0 = a1 + a2( sz0 + sz1 ) + a3 (sz0*sz1) = Y\n",
    "    # (the squared H0 hamiltonian)\n",
    "    # where sz0 is sigma z bit 0, ...\n",
    "    # Convert szi -> (2 xi - 1) (ising to qubo conversion)\n",
    "    # then simplify the equation to obtain the quadratic coeeficients of a two qubit system\n",
    "    # Calculated Q matrix:\n",
    "    #   |  (2a2-2a3)    2a3     |\n",
    "    #   |     2a3    (2a2-2a3)  |\n",
    "\n",
    "    Q=defaultdict(float)\n",
    "    Q[0,0] = 2 * a2 - 2 * a3\n",
    "    Q[0,1] = 4 * a3\n",
    "    Q[1,0] = 4 * a3\n",
    "    Q[1,1] = 2 * a2 - 2 * a3 \n",
    "\n",
    "    #Q = [(2 * a2 - 2 * a3, 2 * a3),(2 * a3,2 * a2 - 2 * a3 )]\n",
    "\n",
    "    #print(Q)\n",
    "\n",
    "    # Solve the equation. First solution is lowest energy\n",
    "\n",
    "    offset = 0\n",
    "    bqm = BinaryQuadraticModel.from_qubo(Q, offset=offset)\n",
    "    sampleset = sampler.sample(bqm, num_reads = samples)\n",
    "    #print(sampleset.first.sample.keys() )\n",
    "    #print(sampleset.first.energy)\n",
    "    print(sampleset.first.sample)\n",
    "\n",
    "    # Step 3: Get x0 and x1 for first energy result\n",
    "\n",
    "    for set in sampleset.data():\n",
    "      x0 = set.sample[0]\n",
    "      x1 = set.sample[1]\n",
    "      energy = set.energy\n",
    "      print(\"x0,x1,ener : \",x0,x1,energy)\n",
    "      break\n",
    "\n",
    "    # Back to ising \n",
    "\n",
    "    sz0 = ( 2 * x0 ) -1 \n",
    "    sz1 = ( 2 * x1 ) -1 \n",
    "\n",
    "    # Calculate Y1 using x0x1 for verification : Y and Y1 match\n",
    "\n",
    "    #Y1 = 4 * x0 * x1 + (2*a2 - 2*a3) * x0 + (2*a2-2*a3) * x1 + a3 - 2*a2 + a1\n",
    "\n",
    "    # Step 4: Calculate Y = ( a1 + a2( sz0 + sz1 ) + a3 (sz0*sz1))\n",
    "\n",
    "    Y = ( a1 + a2 * ( sz0 + sz1 ) + a3 * (sz0 * sz1))\n",
    "\n",
    "    # Get hx1 and hx2 in :\n",
    "    # hx**2 + 2*g3*hx = Y\n",
    "    # a = 1, b = 2g3, c = -Y\n",
    "\n",
    "    a = 1\n",
    "    b = 2 * g3\n",
    "    c = -Y\n",
    "\n",
    "    # Solve H1 for x (minimum of the two possibilities)\n",
    "\n",
    "    hx1 = ( -b + np.sqrt(b**2-4*a*c)) / (2 * a ) \n",
    "    hx2 = ( -b - np.sqrt(b**2-4*a*c)) / (2 * a ) \n",
    "\n",
    "    #print(\"hx1,hx2\",hx1,hx2)\n",
    "\n",
    "    if ( hx2 < hx1):\n",
    "      swp = hx2\n",
    "      hx2 = hx1\n",
    "      hx1 = swp\n",
    "\n",
    "    # Add g3_addition to hx1\n",
    "\n",
    "    hx1 += g3_addition\n",
    "\n",
    "    # H0 = g1σ0 z + g2σ1 z + g3σ0 zσ1 z +\n",
    "  \n",
    "    H0_ver = (g1 * sz0) + (g2 * sz1) + (g3 * sz0 * sz1) \n",
    "\n",
    "    H0 = hx1\n",
    "\n",
    "    H = H0 + g0\n",
    "\n",
    "    return (H)\n",
    "\n",
    "\n",
    "\n",
    "H2 = H2_Energy('H2_coefficients_exact_simulated.csv')\n",
    "print(H2.data())\n",
    "\n",
    "#'H2_coefficients_exact_simulated.csv'\n"
   ]
  },
  {
   "cell_type": "markdown",
   "metadata": {
    "colab_type": "text",
    "id": "Pp2EvStFJDX2"
   },
   "source": [
    "## Process the table and calculate the H2 ground states\n"
   ]
  },
  {
   "cell_type": "code",
   "execution_count": null,
   "metadata": {
    "colab": {
     "base_uri": "https://localhost:8080/",
     "height": 1000
    },
    "colab_type": "code",
    "id": "rYRqT782ATp6",
    "outputId": "40e55f73-2e52-48f1-e6fc-33ea3eba627c"
   },
   "outputs": [
    {
     "name": "stdout",
     "output_type": "stream",
     "text": [
      "0.6 1.5943 0.5132 -1.1008 0.6598 0.0809\n",
      "\n",
      "Solving for R=0.600000 (exact=-0.570300) 1.5943 0.5132 -1.1008 0.6598 0.0809\n",
      "{0: 1, 1: 0}\n",
      "x0,x1,ener :  1 0 -25.427033759999997\n",
      "HH2 = -0.687590, Exact = -0.570300\n",
      "0.65 1.4193 0.5009 -1.0366 0.6548 0.0813\n",
      "\n",
      "Solving for R=0.650000 (exact=-0.687700) 1.4193 0.5009 -1.0366 0.6548 0.0813\n",
      "{0: 1, 1: 0}\n",
      "x0,x1,ener :  1 0 -23.445527400000003\n",
      "HH2 = -0.781574, Exact = -0.687700\n",
      "0.7 1.2668 0.4887 -0.9767 0.6496 0.0818\n",
      "\n",
      "Solving for R=0.700000 (exact=-0.781700) 1.2668 0.4887 -0.9767 0.6496 0.0818\n",
      "{0: 0, 1: 1}\n",
      "x0,x1,ener :  0 1 -21.655856440000004\n",
      "HH2 = -0.857304, Exact = -0.781700\n",
      "0.75 1.1329 0.4767 -0.9208 0.6444 0.0824\n",
      "\n",
      "Solving for R=0.750000 (exact=-0.857500) 1.1329 0.4767 -0.9208 0.6444 0.0824\n",
      "{0: 1, 1: 0}\n",
      "x0,x1,ener :  1 0 -20.041267999999995\n",
      "HH2 = -0.918683, Exact = -0.857500\n",
      "0.8 1.0144 0.465 -0.8685 0.639 0.0829\n",
      "\n",
      "Solving for R=0.800000 (exact=-0.918800) 1.0144 0.465 -0.8685 0.639 0.0829\n",
      "{0: 0, 1: 1}\n",
      "x0,x1,ener :  0 1 -18.573192600000002\n",
      "HH2 = -0.968368, Exact = -0.918800\n",
      "0.85 0.909 0.4535 -0.8197 0.6336 0.0835\n",
      "\n",
      "Solving for R=0.850000 (exact=-0.968500) 0.909 0.4535 -0.8197 0.6336 0.0835\n",
      "{0: 0, 1: 1}\n",
      "x0,x1,ener :  0 1 -17.245743\n",
      "HH2 = -1.008706, Exact = -0.968500\n",
      "0.9 0.8146 0.4422 -0.774 0.6282 0.084\n",
      "\n",
      "Solving for R=0.900000 (exact=-1.008800) 0.8146 0.4422 -0.774 0.6282 0.084\n",
      "{0: 1, 1: 0}\n",
      "x0,x1,ener :  1 0 -16.03700352\n",
      "HH2 = -1.041349, Exact = -1.008800\n",
      "0.95 0.7297 0.4313 -0.7312 0.6227 0.0846\n",
      "\n",
      "Solving for R=0.950000 (exact=-1.041500) 0.7297 0.4313 -0.7312 0.6227 0.0846\n",
      "{0: 1, 1: 0}\n",
      "x0,x1,ener :  1 0 -14.937525360000002\n",
      "HH2 = -1.067749, Exact = -1.041500\n",
      "1.0 0.6531 0.4207 -0.691 0.6172 0.0852\n",
      "\n",
      "Solving for R=1.000000 (exact=-1.067800) 0.6531 0.4207 -0.691 0.6172 0.0852\n",
      "{0: 0, 1: 1}\n",
      "x0,x1,ener :  0 1 -13.933389199999997\n",
      "HH2 = -1.088784, Exact = -1.067800\n",
      "1.05 0.5836 0.4103 -0.6533 0.6117 0.0859\n",
      "\n",
      "Solving for R=1.050000 (exact=-1.088900) 0.5836 0.4103 -0.6533 0.6117 0.0859\n",
      "{0: 0, 1: 1}\n",
      "x0,x1,ener :  0 1 -13.01747696\n",
      "HH2 = -1.105486, Exact = -1.088900\n",
      "1.1 0.5204 0.4003 -0.6178 0.6061 0.0865\n",
      "\n",
      "Solving for R=1.100000 (exact=-1.105600) 0.5204 0.4003 -0.6178 0.6061 0.0865\n",
      "{0: 0, 1: 1}\n",
      "x0,x1,ener :  0 1 -12.175136600000004\n",
      "HH2 = -1.118394, Exact = -1.105600\n",
      "1.15 0.4626 0.3906 -0.5843 0.6006 0.0872\n",
      "\n",
      "Solving for R=1.150000 (exact=-1.118600) 0.4626 0.3906 -0.5843 0.6006 0.0872\n",
      "{0: 1, 1: 0}\n",
      "x0,x1,ener :  1 0 -11.403219439999999\n",
      "HH2 = -1.128376, Exact = -1.118600\n",
      "1.2 0.4098 0.3811 -0.5528 0.5951 0.0879\n",
      "\n",
      "Solving for R=1.200000 (exact=-1.128500) 0.4098 0.3811 -0.5528 0.5951 0.0879\n",
      "{0: 0, 1: 1}\n",
      "x0,x1,ener :  0 1 -10.694355400000001\n",
      "HH2 = -1.135603, Exact = -1.128500\n",
      "1.25 0.3613 0.372 -0.523 0.5897 0.0886\n",
      "\n",
      "Solving for R=1.250000 (exact=-1.135800) 0.3613 0.372 -0.523 0.5897 0.0886\n",
      "{0: 1, 1: 0}\n",
      "x0,x1,ener :  1 0 -10.04174092\n",
      "HH2 = -1.140773, Exact = -1.135800\n",
      "1.3 0.3167 0.3631 -0.4949 0.5842 0.0893\n",
      "\n",
      "Solving for R=1.300000 (exact=-1.140900) 0.3167 0.3631 -0.4949 0.5842 0.0893\n",
      "{0: 1, 1: 0}\n",
      "x0,x1,ener :  1 0 -9.438685080000003\n",
      "HH2 = -1.143891, Exact = -1.140900\n",
      "1.35 0.2755 0.3546 -0.4683 0.5788 0.09\n",
      "\n",
      "Solving for R=1.350000 (exact=-1.144100) 0.2755 0.3546 -0.4683 0.5788 0.09\n",
      "{0: 1, 1: 0}\n",
      "x0,x1,ener :  1 0 -8.882463999999997\n",
      "HH2 = -1.145656, Exact = -1.144100\n",
      "1.4 0.2376 0.3463 -0.4431 0.5734 0.0907\n",
      "\n",
      "Solving for R=1.400000 (exact=-1.145700) 0.2376 0.3463 -0.4431 0.5734 0.0907\n",
      "{0: 0, 1: 1}\n",
      "x0,x1,ener :  0 1 -8.36675612\n",
      "HH2 = -1.145774, Exact = -1.145700\n",
      "1.45 0.2024 0.3383 -0.4192 0.5681 0.0915\n",
      "\n",
      "Solving for R=1.450000 (exact=-1.145900) 0.2024 0.3383 -0.4192 0.5681 0.0915\n",
      "{0: 0, 1: 1}\n",
      "x0,x1,ener :  0 1 -7.890512760000002\n",
      "HH2 = -1.144992, Exact = -1.145900\n",
      "1.5 0.1699 0.3305 -0.3966 0.5628 0.0922\n",
      "\n",
      "Solving for R=1.500000 (exact=-1.145000) 0.1699 0.3305 -0.3966 0.5628 0.0922\n",
      "{0: 0, 1: 1}\n",
      "x0,x1,ener :  0 1 -7.447920320000001\n",
      "HH2 = -1.143019, Exact = -1.145000\n",
      "1.55 0.1397 0.323 -0.3751 0.5575 0.093\n",
      "\n",
      "Solving for R=1.550000 (exact=-1.143200) 0.1397 0.323 -0.3751 0.5575 0.093\n",
      "{0: 1, 1: 0}\n",
      "x0,x1,ener :  1 0 -7.036710879999998\n",
      "HH2 = -1.140254, Exact = -1.143200\n",
      "1.6 0.1116 0.3157 -0.3548 0.5524 0.0938\n",
      "\n",
      "Solving for R=1.600000 (exact=-1.140500) 0.1116 0.3157 -0.3548 0.5524 0.0938\n",
      "{0: 1, 1: 0}\n",
      "x0,x1,ener :  1 0 -6.65749224\n",
      "HH2 = -1.137050, Exact = -1.140500\n",
      "1.65 0.0855 0.3087 -0.3354 0.5472 0.0946\n",
      "\n",
      "Solving for R=1.650000 (exact=-1.137100) 0.0855 0.3087 -0.3354 0.5472 0.0946\n",
      "{0: 1, 1: 0}\n",
      "x0,x1,ener :  1 0 -6.301540799999998\n",
      "HH2 = -1.133013, Exact = -1.137100\n",
      "1.7 0.0612 0.3018 -0.317 0.5422 0.0954\n",
      "\n",
      "Solving for R=1.700000 (exact=-1.133200) 0.0612 0.3018 -0.317 0.5422 0.0954\n",
      "{0: 0, 1: 1}\n",
      "x0,x1,ener :  0 1 -5.971465920000002\n",
      "HH2 = -1.128548, Exact = -1.133200\n",
      "1.75 0.0385 0.2952 -0.2995 0.5371 0.0962\n",
      "\n",
      "Solving for R=1.750000 (exact=-1.128700) 0.0385 0.2952 -0.2995 0.5371 0.0962\n",
      "{0: 1, 1: 0}\n",
      "x0,x1,ener :  1 0 -5.66239024\n",
      "HH2 = -1.123649, Exact = -1.128700\n",
      "1.8 0.0173 0.2888 -0.2829 0.5322 0.097\n",
      "\n",
      "Solving for R=1.800000 (exact=-1.123900) 0.0173 0.2888 -0.2829 0.5322 0.097\n",
      "{0: 0, 1: 1}\n",
      "x0,x1,ener :  0 1 -5.375859919999998\n",
      "HH2 = -1.118619, Exact = -1.123900\n",
      "1.85 -0.0023 0.2826 -0.267 0.5273 0.0978\n",
      "\n",
      "Solving for R=1.850000 (exact=-1.118700) -0.0023 0.2826 -0.267 0.5273 0.0978\n",
      "{0: 0, 1: 1}\n",
      "x0,x1,ener :  0 1 -5.106302920000001\n",
      "HH2 = -1.112969, Exact = -1.118700\n",
      "1.9 -0.0208 0.2766 -0.252 0.5225 0.0987\n",
      "\n",
      "Solving for R=1.900000 (exact=-1.113300) -0.0208 0.2766 -0.252 0.5225 0.0987\n",
      "{0: 1, 1: 0}\n",
      "x0,x1,ener :  1 0 -4.857240279999999\n",
      "HH2 = -1.107556, Exact = -1.113300\n",
      "1.95 -0.0381 0.2707 -0.2376 0.5177 0.0995\n",
      "\n",
      "Solving for R=1.950000 (exact=-1.107700) -0.0381 0.2707 -0.2376 0.5177 0.0995\n",
      "{0: 1, 1: 0}\n",
      "x0,x1,ener :  1 0 -4.621110520000001\n",
      "HH2 = -1.101666, Exact = -1.107700\n",
      "2.0 -0.0543 0.2651 -0.2238 0.513 0.1004\n",
      "\n",
      "Solving for R=2.000000 (exact=-1.101900) -0.0543 0.2651 -0.2238 0.513 0.1004\n",
      "{0: 0, 1: 1}\n",
      "x0,x1,ener :  0 1 -4.4005230399999995\n",
      "HH2 = -1.095830, Exact = -1.101900\n",
      "2.05 -0.0694 0.2596 -0.2108 0.5084 0.1012\n",
      "\n",
      "Solving for R=2.050000 (exact=-1.096100) -0.0694 0.2596 -0.2108 0.5084 0.1012\n",
      "{0: 1, 1: 0}\n",
      "x0,x1,ener :  1 0 -4.19492352\n",
      "HH2 = -1.089896, Exact = -1.096100\n",
      "2.1 -0.0837 0.2542 -0.1983 0.5039 0.1021\n",
      "\n",
      "Solving for R=2.100000 (exact=-1.090100) -0.0837 0.2542 -0.1983 0.5039 0.1021\n",
      "{0: 1, 1: 0}\n",
      "x0,x1,ener :  1 0 -4.001679320000001\n",
      "HH2 = -1.084041, Exact = -1.090100\n",
      "2.15 -0.097 0.249 -0.1863 0.4994 0.103\n",
      "\n",
      "Solving for R=2.150000 (exact=-1.084200) -0.097 0.249 -0.1863 0.4994 0.103\n",
      "{0: 0, 1: 1}\n",
      "x0,x1,ener :  0 1 -3.8190392000000006\n",
      "HH2 = -1.077983, Exact = -1.084200\n",
      "2.2 -0.1095 0.244 -0.1749 0.495 0.1038\n",
      "\n",
      "Solving for R=2.200000 (exact=-1.078200) -0.1095 0.244 -0.1749 0.495 0.1038\n",
      "{0: 0, 1: 1}\n",
      "x0,x1,ener :  0 1 -3.6477607200000004\n",
      "HH2 = -1.072020, Exact = -1.078200\n",
      "2.25 -0.1213 0.2391 -0.164 0.4906 0.1047\n",
      "\n",
      "Solving for R=2.250000 (exact=-1.072300) -0.1213 0.2391 -0.164 0.4906 0.1047\n",
      "{0: 0, 1: 1}\n",
      "x0,x1,ener :  0 1 -3.4865929199999997\n",
      "HH2 = -1.066144, Exact = -1.072300\n",
      "2.3 -0.1323 0.2343 -0.1536 0.4864 0.1056\n",
      "\n",
      "Solving for R=2.300000 (exact=-1.066400) -0.1323 0.2343 -0.1536 0.4864 0.1056\n",
      "{0: 1, 1: 0}\n",
      "x0,x1,ener :  1 0 -3.33594496\n",
      "HH2 = -1.060369, Exact = -1.066400\n",
      "2.35 -0.1427 0.2297 -0.1436 0.4822 0.1064\n",
      "\n",
      "Solving for R=2.350000 (exact=-1.060500) -0.1427 0.2297 -0.1436 0.4822 0.1064\n",
      "{0: 0, 1: 1}\n",
      "x0,x1,ener :  0 1 -0.5867741600000002\n",
      "HH2 = -1.054594, Exact = -1.060500\n",
      "2.4 -0.1524 0.2252 -0.1341 0.478 0.1073\n",
      "\n",
      "Solving for R=2.400000 (exact=-1.054800) -0.1524 0.2252 -0.1341 0.478 0.1073\n",
      "{0: 0, 1: 1}\n",
      "x0,x1,ener :  0 1 -0.5729023599999999\n",
      "HH2 = -1.048909, Exact = -1.054800\n",
      "2.45 -0.1616 0.2208 -0.125 0.474 0.1082\n",
      "\n",
      "Solving for R=2.450000 (exact=-1.049200) -0.1616 0.2208 -0.125 0.474 0.1082\n",
      "{0: 0, 1: 1}\n",
      "x0,x1,ener :  0 1 -0.5598382399999999\n",
      "HH2 = -1.043530, Exact = -1.049200\n",
      "2.5 -0.1703 0.2165 -0.1162 0.47 0.109\n",
      "\n",
      "Solving for R=2.500000 (exact=-1.043700) -0.1703 0.2165 -0.1162 0.47 0.109\n",
      "{0: 0, 1: 1}\n",
      "x0,x1,ener :  0 1 -0.5468828\n",
      "HH2 = -1.038060, Exact = -1.043700\n",
      "2.55 -0.1784 0.2124 -0.1079 0.466 0.1099\n",
      "\n",
      "Solving for R=2.550000 (exact=-1.038300) -0.1784 0.2124 -0.1079 0.466 0.1099\n",
      "{0: 0, 1: 1}\n",
      "x0,x1,ener :  0 1 -0.5338521200000002\n",
      "HH2 = -1.032864, Exact = -1.038300\n",
      "2.6 -0.1861 0.2083 -0.0999 0.4622 0.1108\n",
      "\n",
      "Solving for R=2.600000 (exact=-1.033100) -0.1861 0.2083 -0.0999 0.4622 0.1108\n",
      "{0: 0, 1: 1}\n",
      "x0,x1,ener :  0 1 -0.5217622\n",
      "HH2 = -1.027897, Exact = -1.033100\n",
      "2.65 -0.1933 0.2044 -0.0922 0.4584 0.1117\n",
      "\n",
      "Solving for R=2.650000 (exact=-1.028000) -0.1933 0.2044 -0.0922 0.4584 0.1117\n",
      "{0: 1, 1: 0}\n",
      "x0,x1,ener :  1 0 -0.5095020399999999\n",
      "HH2 = -1.023021, Exact = -1.028000\n",
      "2.7 -0.2001 0.2006 -0.0848 0.4547 0.1125\n",
      "\n",
      "Solving for R=2.700000 (exact=-1.023100) -0.2001 0.2006 -0.0848 0.4547 0.1125\n",
      "{0: 0, 1: 1}\n",
      "x0,x1,ener :  0 1 -0.4977228\n",
      "HH2 = -1.018226, Exact = -1.023100\n",
      "2.75 -0.2064 0.1968 -0.0778 0.451 0.1134\n",
      "\n",
      "Solving for R=2.750000 (exact=-1.018400) -0.2064 0.1968 -0.0778 0.451 0.1134\n",
      "{0: 0, 1: 1}\n",
      "x0,x1,ener :  0 1 -0.4862456\n",
      "HH2 = -1.013551, Exact = -1.018400\n",
      "2.8 -0.2125 0.1932 -0.071 0.4475 0.1142\n",
      "\n",
      "Solving for R=2.800000 (exact=-1.013900) -0.2125 0.1932 -0.071 0.4475 0.1142\n",
      "{0: 0, 1: 1}\n",
      "x0,x1,ener :  0 1 -0.4752516399999999\n",
      "HH2 = -1.009239, Exact = -1.013900\n",
      "2.85 -0.2182 0.1897 -0.0646 0.4439 0.1151\n",
      "\n",
      "Solving for R=2.850000 (exact=-1.009500) -0.2182 0.1897 -0.0646 0.4439 0.1151\n",
      "{0: 0, 1: 1}\n",
      "x0,x1,ener :  0 1 -0.4640507600000001\n",
      "HH2 = -1.005117, Exact = -1.009500\n",
      "2.9 -0.2235 0.1862 -0.0584 0.4405 0.1159\n",
      "\n",
      "Solving for R=2.900000 (exact=-1.005300) -0.2235 0.1862 -0.0584 0.4405 0.1159\n",
      "{0: 0, 1: 1}\n",
      "x0,x1,ener :  0 1 -0.45374984\n",
      "HH2 = -1.000987, Exact = -1.005300\n",
      "2.95 -0.2286 0.1829 -0.0524 0.4371 0.1168\n",
      "\n",
      "Solving for R=2.950000 (exact=-1.001300) -0.2286 0.1829 -0.0524 0.4371 0.1168\n",
      "{0: 0, 1: 1}\n",
      "x0,x1,ener :  0 1 -0.44315463999999993\n",
      "HH2 = -0.997265, Exact = -1.001300\n",
      "3.0 -0.2333 0.1796 -0.0467 0.4338 0.1176\n",
      "\n",
      "Solving for R=3.000000 (exact=-0.997400) -0.2333 0.1796 -0.0467 0.4338 0.1176\n",
      "{0: 0, 1: 1}\n",
      "x0,x1,ener :  0 1 -0.43325336\n",
      "HH2 = -0.993490, Exact = -0.997400\n",
      "3.05 -0.2378 0.1764 -0.0413 0.4305 0.1184\n",
      "\n",
      "Solving for R=3.050000 (exact=-0.993800) -0.2378 0.1764 -0.0413 0.4305 0.1184\n",
      "{0: 1, 1: 0}\n",
      "x0,x1,ener :  1 0 -0.42346328\n",
      "HH2 = -0.989964, Exact = -0.993800\n",
      "3.1 -0.2421 0.1733 -0.036 0.4273 0.1193\n",
      "\n",
      "Solving for R=3.100000 (exact=-0.990300) -0.2421 0.1733 -0.036 0.4273 0.1193\n",
      "{0: 0, 1: 1}\n",
      "x0,x1,ener :  0 1 -0.41378284\n",
      "HH2 = -0.986790, Exact = -0.990300\n"
     ]
    }
   ],
   "source": [
    "data = H2.data()\n",
    "\n",
    "\n",
    "for row in range(len(data)):\n",
    "  R,g0,g1,g2,g3,g4,exact,sim = data[row]\n",
    "  print(R,g0,g1,g2,g3,g4)\n",
    "  HH2 = H2.solve(R,g0,g1,g2,g3,g4, 25, exact )\n",
    "  print(\"HH2 = %f, Exact = %f\" % (HH2,exact))\n"
   ]
  },
  {
   "cell_type": "markdown",
   "metadata": {
    "colab_type": "text",
    "id": "D8jnJkm9JCjL"
   },
   "source": []
  }
 ],
 "metadata": {
  "colab": {
   "collapsed_sections": [],
   "name": "CDL-DWaveSet-002.ipynb",
   "provenance": [],
   "toc_visible": true
  },
  "kernelspec": {
   "display_name": "Python 3",
   "language": "python",
   "name": "python3"
  },
  "language_info": {
   "codemirror_mode": {
    "name": "ipython",
    "version": 3
   },
   "file_extension": ".py",
   "mimetype": "text/x-python",
   "name": "python",
   "nbconvert_exporter": "python",
   "pygments_lexer": "ipython3",
   "version": "3.7.7"
  }
 },
 "nbformat": 4,
 "nbformat_minor": 1
}
