{
  "nbformat": 4,
  "nbformat_minor": 0,
  "metadata": {
    "colab": {
      "name": "CDL-DWaveSet.ipynb",
      "provenance": [],
      "collapsed_sections": []
    },
    "kernelspec": {
      "name": "python3",
      "display_name": "Python 3"
    }
  },
  "cells": [
    {
      "cell_type": "markdown",
      "metadata": {
        "id": "nqrr7ZlrpBgt",
        "colab_type": "text"
      },
      "source": [
        "# Cohort Project - DWave Data Set\n"
      ]
    },
    {
      "cell_type": "code",
      "metadata": {
        "id": "8S9CKZDGpSOu",
        "colab_type": "code",
        "colab": {}
      },
      "source": [
        "import numpy as np\n",
        "import helper as dw\n",
        "import csv "
      ],
      "execution_count": null,
      "outputs": []
    },
    {
      "cell_type": "markdown",
      "metadata": {
        "id": "HLMj7XpcveGf",
        "colab_type": "text"
      },
      "source": [
        "## Load the Training and Validation data from the DWave npz file\n"
      ]
    },
    {
      "cell_type": "code",
      "metadata": {
        "id": "21PIUaMBqFcF",
        "colab_type": "code",
        "colab": {}
      },
      "source": [
        "train, val = dw.load_dataset(\"dataset_x1a46w3557od23s750k9.npz\")"
      ],
      "execution_count": null,
      "outputs": []
    },
    {
      "cell_type": "code",
      "metadata": {
        "id": "HiiN97gJshmj",
        "colab_type": "code",
        "colab": {
          "base_uri": "https://localhost:8080/",
          "height": 54
        },
        "outputId": "67f161fa-06dc-481d-983f-c6b83f4f85c8"
      },
      "source": [
        "print (train.shape)\n",
        "print (val.shape)"
      ],
      "execution_count": null,
      "outputs": [
        {
          "output_type": "stream",
          "text": [
            "(40000, 2041)\n",
            "(10000, 2041)\n"
          ],
          "name": "stdout"
        }
      ]
    },
    {
      "cell_type": "markdown",
      "metadata": {
        "id": "vyCEiAigvvWb",
        "colab_type": "text"
      },
      "source": [
        "## Load the correlated features csv data"
      ]
    },
    {
      "cell_type": "code",
      "metadata": {
        "id": "974n0abts486",
        "colab_type": "code",
        "colab": {
          "base_uri": "https://localhost:8080/",
          "height": 36
        },
        "outputId": "0f51f31c-6195-43af-ca8a-936899326bd2"
      },
      "source": [
        "corr_feat = []\n",
        "with open('correlated_features.csv', newline='') as csvfile:\n",
        "  reader = csv.reader(csvfile, delimiter=',')\n",
        "  for row in reader:\n",
        "    corr_feat.append(row)\n",
        "\n",
        "print (len(corr_feat))\n",
        "\n",
        "#for r in cf:\n",
        "#  print (r[0],r[1],r[2])\n",
        "\n"
      ],
      "execution_count": null,
      "outputs": [
        {
          "output_type": "stream",
          "text": [
            "5975\n"
          ],
          "name": "stdout"
        }
      ]
    },
    {
      "cell_type": "markdown",
      "metadata": {
        "id": "0LssdN6rv5DU",
        "colab_type": "text"
      },
      "source": [
        "## Add Code below to process the data"
      ]
    },
    {
      "cell_type": "code",
      "metadata": {
        "id": "plf3TUSquKOg",
        "colab_type": "code",
        "colab": {}
      },
      "source": [
        ""
      ],
      "execution_count": null,
      "outputs": []
    }
  ]
}