{
  "nbformat": 4,
  "nbformat_minor": 0,
  "metadata": {
    "colab": {
      "name": "CDL_DWaveSet.ipynb",
      "provenance": [],
      "collapsed_sections": []
    },
    "kernelspec": {
      "display_name": "Python 3",
      "language": "python",
      "name": "python3"
    },
    "language_info": {
      "codemirror_mode": {
        "name": "ipython",
        "version": 3
      },
      "file_extension": ".py",
      "mimetype": "text/x-python",
      "name": "python",
      "nbconvert_exporter": "python",
      "pygments_lexer": "ipython3",
      "version": "3.7.7"
    }
  },
  "cells": [
    {
      "cell_type": "markdown",
      "metadata": {
        "colab_type": "text",
        "id": "nqrr7ZlrpBgt"
      },
      "source": [
        "# Cohort Project - DWave Data Set\n"
      ]
    },
    {
      "cell_type": "markdown",
      "metadata": {
        "id": "kc6JOxC1Wf-e",
        "colab_type": "text"
      },
      "source": [
        "## Team Notes - Update\n",
        "\n",
        "1 - Based on the DWave notes (see below) and found paper (note 1) it appears that we have data that provides for solving an Inverse pairwise problem (**team review needed to assist staying on track to what is asked, and not go beyond too soon**)\n",
        "\n",
        "2 - DWave solves Ising Hamiltonians using an Ising or QUBO solver\n",
        "\n",
        "3 - We do not have to use the actual DWave QPU to build and test our model, so if we do not yet have a DWave key we can still publish by the deadline. \n",
        "\n",
        "4 - One can always sign up on DWave leap to get a free \"minute\" of computing time (one minute is a lot in Quantum processing)\n",
        "\n",
        "\n",
        "\n",
        "\n",
        "\n",
        "\n",
        "\n",
        "\n",
        "\n"
      ]
    },
    {
      "cell_type": "markdown",
      "metadata": {
        "id": "35lzHmMDJuep",
        "colab_type": "text"
      },
      "source": [
        "## DWave README.md content - with notes\n",
        "\n",
        "# Ising data set\n",
        "The provided data set is a collection of samples from an Ising Hamiltonian with pairwise interactions.\n",
        "\n",
        "> [Note 1: see \"Faster solutions of the inverse pairwise Ising problem\"](https://arxiv.org/abs/0712.2437)\n",
        "\n",
        "\n",
        "# Files\n",
        "\n",
        "The following two files are provided:\n",
        "\n",
        "* Training set: `train_{hashcode}.csv`\n",
        "* Validation set: `val_{hashcose}.csv`\n",
        "* List of pair of correlated variables: `correlated_features.csv`\n",
        "\n",
        "You may use the first file to train a Boltzmann machine and use the second data set to validate the generative model.\n",
        "\n",
        "# Tasks\n",
        "\n",
        "1. Generate 10000 samples\n",
        "2. Ensure the samples are generated from an equilibrated model. What metric do you use to prove equilibrium?\n",
        "3. Report the mean of each Ising variable\n",
        "4. Report the mean correlation of pairs of variables listed in `correlated_features.csv`"
      ]
    },
    {
      "cell_type": "markdown",
      "metadata": {
        "id": "MtUNGS5QLsFg",
        "colab_type": "text"
      },
      "source": [
        "## Excepts from document from note (1)\n",
        "Recent work has shown that probabilistic models based on pairwise interactions—in the simplestcase, the Ising model—provide surprisingly accurate descriptions of experiments on real biologicalnetworks ranging from neurons to genes.  **Finding these models requires us to solve an inverse prob-lem:  given experimentally measured expectation values, what are the parameters of the underlyingHamiltonian?**  This problem sits at the intersection of statistical physics and machine learning, andwe suggest that more efficient solutions are possible by merging ideas from the two fields.  We usea combination of recent coordinate descent algorithms with an adaptation of the histogram MonteCarlo method, and implement these techniques to take advantage of the sparseness found in data onreal neurons.  The resulting algorithm learns the parameters of an Ising model describing a networkof forty neurons within a few minutes.  This opens the possibility of analyzing much larger data setsnow emerging, and thus testing hypotheses about the collective behaviors of these networks."
      ]
    },
    {
      "cell_type": "markdown",
      "metadata": {
        "id": "kgCrXIx1PW8m",
        "colab_type": "text"
      },
      "source": [
        "## Ising Hamiltonian\n",
        "\n",
        "Note 2: Ising describing the state of neurons firing or not\n",
        "\n",
        "Note 2b: The DWave specializes on the square braket portion of the formula, so modification and adaptation will probably be needed.\n",
        "\n",
        "\n",
        ">$P(\\sigma) = \\frac{1}{Z} exp[ - \\sum_{i} h_{i}\\sigma_{i}^2 - \\frac{1}{2} \\sum_{i\\neq j} J_{ij}\\sigma_{i}\\sigma_{j}]$\n",
        "\n",
        "## Inverse Problem \n",
        "\n",
        "Note 3: Inverse Problem definition\n",
        "\n",
        "The inverse problem is to : \n",
        "> find the “magnetic fields” ${h_i}$ and “exchange interactions” ${J_{ij}}$ that reproduce the observed values of〈$σ_i$〉and〈$σ_iσ_j$〉\n",
        "\n",
        "## Current Assessment \n",
        "\n",
        "Note 4: If correct, the assessment is that we would use the source data, use RBM to learn it and generate stable samples. Using the pairwise data set, we construct the Ising model for the DWave. We then apply a method (iterative?) to have the DWave propose sets of qubit states for a given Ising set of coefficients. It appears that these coefficients are what we want to generate which solves the Ising for the given data set."
      ]
    },
    {
      "cell_type": "code",
      "metadata": {
        "id": "HKcqWUR0Spks",
        "colab_type": "code",
        "colab": {}
      },
      "source": [
        ""
      ],
      "execution_count": 20,
      "outputs": []
    },
    {
      "cell_type": "code",
      "metadata": {
        "id": "i7UnoSZoz4lG",
        "colab_type": "code",
        "colab": {
          "base_uri": "https://localhost:8080/",
          "height": 35
        },
        "outputId": "f0eec313-c40a-4453-ff15-d38cc84b06c5"
      },
      "source": [
        "from google.colab import drive\n",
        "drive.mount('/content/drive')"
      ],
      "execution_count": 21,
      "outputs": [
        {
          "output_type": "stream",
          "text": [
            "Drive already mounted at /content/drive; to attempt to forcibly remount, call drive.mount(\"/content/drive\", force_remount=True).\n"
          ],
          "name": "stdout"
        }
      ]
    },
    {
      "cell_type": "code",
      "metadata": {
        "id": "50I7via70Thu",
        "colab_type": "code",
        "colab": {
          "base_uri": "https://localhost:8080/",
          "height": 35
        },
        "outputId": "b19cf6ba-1dca-42a7-c589-d2e92601b651"
      },
      "source": [
        "%cd \"/content/drive/My Drive/Quantum-CDL/ProjectFiles/CohortProject_2020-master/CohortProject_2020-master/Project_1_RBM_and_Tomography\"\n"
      ],
      "execution_count": 22,
      "outputs": [
        {
          "output_type": "stream",
          "text": [
            "/content/drive/My Drive/Quantum-CDL/ProjectFiles/CohortProject_2020-master/CohortProject_2020-master/Project_1_RBM_and_Tomography\n"
          ],
          "name": "stdout"
        }
      ]
    },
    {
      "cell_type": "code",
      "metadata": {
        "colab_type": "code",
        "id": "8S9CKZDGpSOu",
        "colab": {
          "base_uri": "https://localhost:8080/",
          "height": 35
        },
        "outputId": "64e53416-cd7d-429c-821e-1cd0b27b05de"
      },
      "source": [
        "!pwd\n",
        "import numpy as np\n",
        "import torch\n",
        "from RBM_helper import RBM\n",
        "import csv\n",
        "import sys\n",
        "import importlib\n",
        "import Plotters\n",
        "importlib.reload(Plotters)\n",
        "\n",
        "datapath = '../datasets/IsingSamplesDW/'\n",
        "sys.path.append(datapath) \n",
        "import dwhelper as dw # Need to rename helper because python has a helper.py in the system path\n"
      ],
      "execution_count": 23,
      "outputs": [
        {
          "output_type": "stream",
          "text": [
            "/content/drive/My Drive/Quantum-CDL/ProjectFiles/CohortProject_2020-master/CohortProject_2020-master/Project_1_RBM_and_Tomography\n"
          ],
          "name": "stdout"
        }
      ]
    },
    {
      "cell_type": "markdown",
      "metadata": {
        "colab_type": "text",
        "id": "HLMj7XpcveGf"
      },
      "source": [
        "## Load the Training and Validation data from the DWave npz file\n"
      ]
    },
    {
      "cell_type": "code",
      "metadata": {
        "colab_type": "code",
        "id": "21PIUaMBqFcF",
        "colab": {}
      },
      "source": [
        "training_data, val = dw.load_dataset(datapath + \"dataset_x1a46w3557od23s750k9.npz\")"
      ],
      "execution_count": 24,
      "outputs": []
    },
    {
      "cell_type": "code",
      "metadata": {
        "colab_type": "code",
        "id": "HiiN97gJshmj",
        "colab": {
          "base_uri": "https://localhost:8080/",
          "height": 54
        },
        "outputId": "6eeec3a5-f234-4c16-f249-8e4d9f598b4b"
      },
      "source": [
        "train = torch.from_numpy(training_data)\n",
        "print (train.shape)\n",
        "print (val.shape)\n"
      ],
      "execution_count": 25,
      "outputs": [
        {
          "output_type": "stream",
          "text": [
            "torch.Size([40000, 2041])\n",
            "(10000, 2041)\n"
          ],
          "name": "stdout"
        }
      ]
    },
    {
      "cell_type": "markdown",
      "metadata": {
        "colab_type": "text",
        "id": "vyCEiAigvvWb"
      },
      "source": [
        "## Load the correlated features csv data"
      ]
    },
    {
      "cell_type": "code",
      "metadata": {
        "colab_type": "code",
        "id": "974n0abts486",
        "colab": {
          "base_uri": "https://localhost:8080/",
          "height": 35
        },
        "outputId": "0082eaa3-970d-4c24-eaf6-1ba853ecfa5d"
      },
      "source": [
        "corr_feat = []\n",
        "with open(datapath+'correlated_features.csv', newline='') as csvfile:\n",
        "  reader = csv.reader(csvfile, delimiter=',')\n",
        "  for row in reader:\n",
        "    corr_feat.append(row)\n",
        "\n",
        "print (len(corr_feat))\n",
        "\n",
        "#for r in cf:\n",
        "#  print (r[0],r[1],r[2])\n",
        "\n"
      ],
      "execution_count": 26,
      "outputs": [
        {
          "output_type": "stream",
          "text": [
            "5975\n"
          ],
          "name": "stdout"
        }
      ]
    },
    {
      "cell_type": "code",
      "metadata": {
        "id": "zKCqhcxc7EL6",
        "colab_type": "code",
        "colab": {}
      },
      "source": [
        "\n",
        "plot_title = f\"Frequencies\"\n",
        "plotter = Plotters.XYPlotter(href=None,\n",
        "                             title=plot_title,\n",
        "                             x_label=\"Var\",\n",
        "                             y_label=\"Freqs\")\n",
        "%matplotlib inline\n",
        "\n",
        "\n"
      ],
      "execution_count": 27,
      "outputs": []
    },
    {
      "cell_type": "code",
      "metadata": {
        "id": "P9kAG_bmBRv0",
        "colab_type": "code",
        "colab": {
          "base_uri": "https://localhost:8080/",
          "height": 333
        },
        "outputId": "d5c71392-0d98-4ba3-dd2c-783f3f2909b2"
      },
      "source": [
        "# Calculate Mean values (just to validate plotter )\n",
        "\n",
        "ta = np.array(train)\n",
        "f1 = ta.mean(axis=0)\n",
        "\n",
        "freqs = f1.tolist()\n",
        "for i in range(len(freqs)):\n",
        "  plotter.update(i,freqs[i],redraw_fig=False)\n",
        "plotter._update_plot()\n",
        "print(freqs)\n"
      ],
      "execution_count": 28,
      "outputs": [
        {
          "output_type": "display_data",
          "data": {
            "image/png": "[encoded data removed]",
            "text/plain": [
              "<Figure size 432x288 with 1 Axes>"
            ]
          },
          "metadata": {
            "tags": [],
            "needs_background": "light"
          }
        },
        {
          "output_type": "stream",
          "text": [
            "[0.51915, 0.521575, 0.47845, 0.5214, 0.4784, 0.478375, 0.478575, 0.521425, 0.48035, 0.521675, 0.521425, 0.52175, 0.47845, 0.521625, 0.478525, 0.478575, 0.479425, 0.5222, 0.5184, 0.521525, 0.4785, 0.521675, 0.478475, 0.478475, 0.5216, 0.5215, 0.47835, 0.478375, 0.5216, 0.478375, 0.47835, 0.478425, 0.521575, 0.47825, 0.521575, 0.521625, 0.5216, 0.521625, 0.521625, 0.521575, 0.478375, 0.52165, 0.478325, 0.478375, 0.521625, 0.521575, 0.47835, 0.521575, 0.521575, 0.52155, 0.5216, 0.52165, 0.52145, 0.521575, 0.5214, 0.478475, 0.47855, 0.521475, 0.47855, 0.521625, 0.52145, 0.478475, 0.52145, 0.478325, 0.47835, 0.52145, 0.47855, 0.4784, 0.47855, 0.4785, 0.478575, 0.5217, 0.4791, 0.521575, 0.52145, 0.47845, 0.521475, 0.478525, 0.478075, 0.5216, 0.47855, 0.47845, 0.52145, 0.47845, 0.4785, 0.478575, 0.478475, 0.521125, 0.521525, 0.478425, 0.4785, 0.479275, 0.5215, 0.4789, 0.4793, 0.478425, 0.521725, 0.478475, 0.5215, 0.52075, 0.478725, 0.47915, 0.520875, 0.4787, 0.4815, 0.521225, 0.4812, 0.47925, 0.521, 0.479175, 0.4792, 0.47915, 0.479775, 0.5214, 0.51955, 0.520775, 0.479325, 0.520825, 0.4792, 0.5189, 0.479325, 0.4816, 0.480475, 0.52075, 0.479325, 0.5208, 0.5191, 0.521575, 0.52155, 0.521425, 0.478425, 0.52165, 0.519025, 0.52145, 0.519675, 0.521675, 0.478575, 0.52175, 0.5216, 0.52165, 0.5206, 0.52145, 0.47945, 0.477825, 0.5183, 0.521525, 0.4784, 0.52165, 0.5217, 0.521275, 0.5216, 0.5215, 0.52165, 0.521625, 0.478375, 0.47835, 0.478325, 0.521375, 0.52155, 0.521725, 0.478425, 0.4784, 0.5216, 0.5216, 0.478325, 0.478575, 0.47845, 0.52165, 0.47825, 0.5216, 0.5216, 0.521575, 0.521675, 0.47855, 0.478375, 0.478425, 0.478475, 0.521525, 0.4784, 0.521575, 0.5216, 0.478575, 0.521375, 0.521525, 0.47855, 0.478525, 0.5216, 0.52155, 0.52145, 0.478575, 0.478525, 0.478325, 0.521675, 0.47855, 0.478275, 0.521425, 0.52145, 0.521425, 0.52145, 0.478275, 0.52085, 0.4784, 0.521675, 0.478575, 0.478475, 0.5218, 0.521925, 0.4784, 0.47855, 0.47845, 0.478375, 0.521425, 0.521525, 0.47805, 0.478475, 0.478875, 0.478475, 0.521525, 0.4784, 0.4785, 0.478425, 0.478275, 0.4793, 0.5215, 0.478275, 0.521575, 0.521575, 0.5214, 0.478425, 0.5217, 0.479125, 0.47855, 0.481575, 0.478425, 0.521575, 0.521425, 0.478525, 0.521725, 0.52065, 0.52085, 0.52025, 0.478625, 0.521575, 0.521425, 0.5215, 0.5217, 0.520775, 0.52145, 0.4793, 0.4967, 0.478425, 0.521425, 0.4785, 0.5217, 0.519025, 0.478525, 0.521675, 0.47905, 0.48245, 0.47825, 0.47865, 0.518475, 0.519725, 0.521675, 0.47855, 0.52175, 0.51755, 0.47825, 0.478725, 0.51905, 0.5205, 0.486825, 0.481775, 0.5215, 0.482575, 0.47825, 0.521375, 0.519, 0.4784, 0.519475, 0.47835, 0.521725, 0.517475, 0.47835, 0.478425, 0.51905, 0.47875, 0.478225, 0.478425, 0.5216, 0.521475, 0.521575, 0.4784, 0.478425, 0.52155, 0.52165, 0.521725, 0.5216, 0.521475, 0.47845, 0.52145, 0.478425, 0.521625, 0.521575, 0.5199, 0.478475, 0.478475, 0.47845, 0.4785, 0.478425, 0.501875, 0.478475, 0.521675, 0.521525, 0.4784, 0.521475, 0.478425, 0.478425, 0.498275, 0.47835, 0.5217, 0.5216, 0.521525, 0.521575, 0.4784, 0.52145, 0.47855, 0.521725, 0.521675, 0.5216, 0.521525, 0.47845, 0.4783, 0.4785, 0.522, 0.52155, 0.478525, 0.47845, 0.478475, 0.521525, 0.4783, 0.4785, 0.478475, 0.521775, 0.478475, 0.521525, 0.521525, 0.52155, 0.4783, 0.521525, 0.5207, 0.4785, 0.5217, 0.521575, 0.521525, 0.521525, 0.52165, 0.478325, 0.479125, 0.52145, 0.5095, 0.478475, 0.4793, 0.478975, 0.478425, 0.52165, 0.47935, 0.47915, 0.52025, 0.4785, 0.479825, 0.4793, 0.478425, 0.521625, 0.520775, 0.521575, 0.479325, 0.503325, 0.47995, 0.4793, 0.478425, 0.521625, 0.518825, 0.478375, 0.47825, 0.479, 0.47855, 0.481025, 0.5217, 0.4787, 0.4803, 0.4783, 0.479075, 0.47825, 0.4785, 0.518975, 0.521725, 0.4787, 0.520475, 0.4869, 0.481775, 0.4785, 0.4785, 0.4831, 0.4783, 0.478425, 0.52165, 0.483075, 0.4783, 0.478325, 0.4784, 0.47845, 0.4783, 0.521575, 0.52125, 0.4783, 0.478425, 0.521575, 0.47845, 0.52155, 0.47825, 0.478375, 0.5214, 0.47835, 0.4783, 0.4784, 0.47835, 0.52155, 0.47835, 0.521625, 0.4782, 0.52155, 0.5199, 0.478475, 0.47835, 0.47845, 0.47835, 0.478375, 0.521675, 0.5217, 0.499425, 0.521525, 0.47835, 0.47845, 0.47835, 0.521625, 0.52175, 0.478275, 0.47825, 0.521725, 0.521725, 0.52175, 0.478325, 0.478275, 0.4785, 0.5217, 0.478175, 0.521625, 0.5217, 0.52175, 0.478325, 0.478325, 0.47795, 0.478425, 0.521125, 0.52145, 0.478325, 0.4785, 0.4783, 0.5216, 0.52155, 0.478275, 0.521475, 0.5215, 0.521675, 0.52155, 0.521775, 0.478425, 0.479425, 0.478525, 0.5217, 0.478425, 0.478375, 0.52155, 0.47945, 0.478425, 0.5208, 0.478575, 0.495275, 0.47845, 0.5208, 0.47845, 0.4795, 0.478425, 0.4792, 0.52085, 0.479425, 0.5216, 0.5208, 0.47855, 0.52075, 0.521575, 0.520775, 0.478375, 0.52065, 0.503375, 0.5208, 0.478575, 0.52075, 0.478425, 0.48995, 0.478275, 0.52175, 0.49535, 0.506225, 0.521625, 0.518125, 0.52175, 0.519875, 0.5217, 0.520975, 0.47825, 0.52165, 0.51805, 0.52175, 0.510325, 0.486275, 0.518225, 0.478475, 0.495675, 0.4782, 0.48195, 0.47825, 0.5217, 0.50905, 0.4783, 0.478275, 0.49565, 0.478175, 0.47845, 0.52175, 0.52125, 0.521775, 0.47825, 0.478425, 0.47825, 0.47845, 0.47825, 0.47875, 0.52155, 0.52175, 0.47835, 0.478275, 0.47825, 0.478425, 0.47865, 0.521825, 0.52155, 0.5186, 0.521625, 0.478275, 0.4782, 0.521575, 0.478925, 0.478325, 0.521725, 0.478425, 0.478275, 0.478275, 0.5218, 0.478425, 0.521125, 0.52175, 0.52175, 0.478225, 0.521725, 0.478275, 0.47825, 0.47805, 0.478825, 0.521525, 0.5217, 0.5218, 0.478375, 0.478275, 0.521725, 0.521975, 0.521125, 0.47795, 0.478425, 0.4789, 0.4789, 0.521725, 0.478325, 0.52195, 0.5211, 0.478475, 0.4783, 0.48615, 0.52145, 0.521725, 0.478325, 0.522125, 0.478925, 0.5206, 0.478675, 0.5217, 0.479, 0.4783, 0.520975, 0.477625, 0.5211, 0.520775, 0.478975, 0.488, 0.521575, 0.52165, 0.49755, 0.478975, 0.483375, 0.520775, 0.5211, 0.520875, 0.5217, 0.52165, 0.479275, 0.479075, 0.479275, 0.479275, 0.5217, 0.47935, 0.4969, 0.5217, 0.479275, 0.4971, 0.52075, 0.50995, 0.52165, 0.47825, 0.5083, 0.47825, 0.521725, 0.47825, 0.51415, 0.52025, 0.4783, 0.478975, 0.47825, 0.47825, 0.47825, 0.47825, 0.478225, 0.4784, 0.513675, 0.518075, 0.5217, 0.521775, 0.52175, 0.52175, 0.478225, 0.5216, 0.503775, 0.478225, 0.521725, 0.521775, 0.47825, 0.478175, 0.478225, 0.5214, 0.521775, 0.478275, 0.478375, 0.521675, 0.47825, 0.52175, 0.521775, 0.4783, 0.5213, 0.47825, 0.478325, 0.480775, 0.521775, 0.47825, 0.521775, 0.521775, 0.478425, 0.4819, 0.5217, 0.480775, 0.478225, 0.52175, 0.521775, 0.478325, 0.478275, 0.5215, 0.521725, 0.478275, 0.521775, 0.521775, 0.478225, 0.47825, 0.47825, 0.47825, 0.47825, 0.478275, 0.47825, 0.47815, 0.47825, 0.521525, 0.4783, 0.4782, 0.478275, 0.47825, 0.47835, 0.478475, 0.521725, 0.522075, 0.4797, 0.47885, 0.521075, 0.521975, 0.479075, 0.478275, 0.52055, 0.47835, 0.513475, 0.513825, 0.5214, 0.520975, 0.520925, 0.5217, 0.512325, 0.47915, 0.4786, 0.5217, 0.479025, 0.52095, 0.479025, 0.47905, 0.47935, 0.52075, 0.479, 0.512, 0.52155, 0.5208, 0.479025, 0.478975, 0.520625, 0.52075, 0.47875, 0.52015, 0.52105, 0.520825, 0.521025, 0.52105, 0.479375, 0.4791, 0.47825, 0.479225, 0.503075, 0.52075, 0.496775, 0.52105, 0.52075, 0.50995, 0.521675, 0.521225, 0.49175, 0.478375, 0.479675, 0.478525, 0.514775, 0.51995, 0.47835, 0.514375, 0.47835, 0.521625, 0.4797, 0.4784, 0.514775, 0.47845, 0.511275, 0.510625, 0.4783, 0.478225, 0.520175, 0.478425, 0.519775, 0.478625, 0.489725, 0.52185, 0.478425, 0.52175, 0.52035, 0.47845, 0.521675, 0.52145, 0.478225, 0.480325, 0.521675, 0.47825, 0.478225, 0.5041, 0.5218, 0.521775, 0.52135, 0.52175, 0.52175, 0.478225, 0.521775, 0.52165, 0.478225, 0.521775, 0.478275, 0.4819, 0.521725, 0.52175, 0.478225, 0.47835, 0.478225, 0.5219, 0.5218, 0.521825, 0.521725, 0.478225, 0.478225, 0.521725, 0.521775, 0.52175, 0.52175, 0.52175, 0.52175, 0.47825, 0.519, 0.478275, 0.47825, 0.47815, 0.478275, 0.521825, 0.478275, 0.4783, 0.481, 0.478275, 0.52175, 0.4782, 0.5203, 0.52155, 0.479475, 0.522075, 0.51905, 0.521775, 0.521725, 0.521675, 0.512325, 0.486175, 0.5214, 0.47845, 0.517775, 0.4782, 0.4783, 0.5208, 0.521575, 0.4783, 0.481175, 0.5208, 0.4825, 0.521775, 0.521575, 0.5207, 0.521, 0.4819, 0.4782, 0.5208, 0.51765, 0.478225, 0.52155, 0.521025, 0.4827, 0.5191, 0.51785, 0.5208, 0.48235, 0.47855, 0.47855, 0.479225, 0.478325, 0.517175, 0.505075, 0.4792, 0.51765, 0.478575, 0.478575, 0.509925, 0.509675, 0.47885, 0.486325, 0.47945, 0.52195, 0.5214, 0.486075, 0.51665, 0.522025, 0.485625, 0.521125, 0.520625, 0.52195, 0.478625, 0.48465, 0.478475, 0.5178, 0.50445, 0.521725, 0.479525, 0.47795, 0.521325, 0.520225, 0.521325, 0.489775, 0.52185, 0.522325, 0.520475, 0.52205, 0.47865, 0.5211, 0.5144, 0.47835, 0.519775, 0.521675, 0.4782, 0.522125, 0.52135, 0.5216, 0.47825, 0.4786, 0.5217, 0.47825, 0.521775, 0.478325, 0.521325, 0.478325, 0.52175, 0.52175, 0.519075, 0.52175, 0.478225, 0.47825, 0.4783, 0.47825, 0.521825, 0.52185, 0.47815, 0.521725, 0.521775, 0.521725, 0.521725, 0.47825, 0.52175, 0.47825, 0.52175, 0.47825, 0.47825, 0.478275, 0.478275, 0.52175, 0.52185, 0.521775, 0.521825, 0.52165, 0.47825, 0.51915, 0.521725, 0.52175, 0.52185, 0.52025, 0.51975, 0.502225, 0.52175, 0.519125, 0.478025, 0.521925, 0.5217, 0.512525, 0.5138, 0.478525, 0.521725, 0.519325, 0.477925, 0.478, 0.515925, 0.521325, 0.521825, 0.504375, 0.5225, 0.519275, 0.478525, 0.478, 0.5181, 0.47905, 0.482175, 0.52205, 0.5223, 0.521975, 0.48185, 0.480125, 0.478925, 0.4827, 0.50245, 0.481975, 0.52225, 0.478025, 0.51815, 0.4801, 0.520725, 0.4773, 0.482825, 0.50505, 0.5223, 0.521975, 0.482025, 0.477775, 0.48735, 0.49605, 0.4789, 0.515, 0.4919, 0.51705, 0.5213, 0.49675, 0.51745, 0.47885, 0.51445, 0.521125, 0.506425, 0.5171, 0.4787, 0.50325, 0.520275, 0.4822, 0.500125, 0.52165, 0.496075, 0.48285, 0.480175, 0.496775, 0.478725, 0.48975, 0.5183, 0.478675, 0.509675, 0.51715, 0.520025, 0.496375, 0.4855, 0.520125, 0.4803, 0.5035, 0.489525, 0.517175, 0.48, 0.480175, 0.4794, 0.5215, 0.52155, 0.478225, 0.489525, 0.521325, 0.51575, 0.4787, 0.478225, 0.52065, 0.519125, 0.478075, 0.502625, 0.5213, 0.487625, 0.5213, 0.478475, 0.51625, 0.498725, 0.521825, 0.4927, 0.4787, 0.4916, 0.521725, 0.477975, 0.481325, 0.478275, 0.5217, 0.4926, 0.4785, 0.49115, 0.478325, 0.47815, 0.4935, 0.521925, 0.478375, 0.4926, 0.478475, 0.490825, 0.47835, 0.5219, 0.479575, 0.51945, 0.491475, 0.49435, 0.49395, 0.48965, 0.479825, 0.50395, 0.48755, 0.51195, 0.5203, 0.50445, 0.500825, 0.489775, 0.4855, 0.515925, 0.478575, 0.477975, 0.504, 0.493025, 0.499425, 0.509425, 0.48515, 0.4819, 0.48225, 0.5178, 0.479775, 0.517825, 0.482225, 0.517725, 0.517825, 0.521575, 0.517775, 0.4979, 0.481975, 0.51785, 0.51775, 0.482275, 0.48195, 0.484625, 0.520775, 0.4828, 0.4871, 0.4822, 0.51775, 0.482275, 0.481975, 0.5129, 0.48375, 0.521075, 0.517425, 0.5216, 0.514725, 0.521425, 0.5171, 0.47895, 0.52115, 0.485675, 0.478875, 0.4784, 0.5145, 0.521425, 0.482925, 0.47985, 0.517925, 0.5001, 0.52165, 0.4784, 0.482, 0.4776, 0.48275, 0.478725, 0.4779, 0.48185, 0.479175, 0.521575, 0.481125, 0.5195, 0.51835, 0.5203, 0.519975, 0.5195, 0.521475, 0.478425, 0.481225, 0.4798, 0.481625, 0.480725, 0.521525, 0.5214, 0.478475, 0.521575, 0.48095, 0.478725, 0.507125, 0.47825, 0.480275, 0.480325, 0.478075, 0.47835, 0.519075, 0.47845, 0.518925, 0.47955, 0.521625, 0.5013, 0.478175, 0.52185, 0.48095, 0.47825, 0.481, 0.478125, 0.496375, 0.521725, 0.5215, 0.521875, 0.518875, 0.52175, 0.4807, 0.52205, 0.50365, 0.52205, 0.4804, 0.52205, 0.518825, 0.478575, 0.519275, 0.479225, 0.47855, 0.5197, 0.508025, 0.477775, 0.51965, 0.521575, 0.519325, 0.50315, 0.517775, 0.511875, 0.479725, 0.522175, 0.481325, 0.521175, 0.519125, 0.4829, 0.521575, 0.522025, 0.50475, 0.522175, 0.481525, 0.478725, 0.518125, 0.51885, 0.517775, 0.4822, 0.488, 0.51755, 0.5183, 0.5212, 0.518275, 0.47845, 0.487575, 0.515725, 0.517975, 0.482675, 0.517225, 0.521025, 0.4819, 0.488475, 0.479275, 0.48205, 0.512975, 0.4825, 0.48395, 0.47895, 0.481875, 0.487175, 0.480575, 0.478925, 0.521925, 0.520525, 0.48025, 0.4805, 0.521275, 0.521775, 0.4794, 0.486125, 0.521175, 0.4795, 0.51975, 0.5195, 0.521325, 0.47975, 0.51785, 0.514925, 0.52165, 0.4797, 0.481925, 0.519475, 0.521325, 0.478725, 0.4774, 0.5203, 0.4792, 0.47975, 0.518475, 0.519475, 0.478675, 0.479675, 0.480025, 0.48055, 0.478025, 0.52025, 0.486325, 0.480475, 0.47865, 0.4804, 0.5215, 0.521325, 0.52145, 0.5214, 0.486325, 0.48045, 0.52135, 0.52175, 0.51965, 0.519725, 0.478075, 0.4818, 0.48665, 0.517225, 0.521725, 0.491875, 0.4785, 0.498625, 0.478175, 0.48165, 0.48705, 0.51595, 0.521725, 0.5198, 0.52015, 0.478275, 0.52125, 0.518525, 0.514325, 0.4823, 0.521725, 0.477975, 0.501675, 0.4779, 0.4823, 0.51765, 0.484775, 0.48165, 0.47795, 0.482025, 0.5174, 0.517825, 0.492175, 0.4824, 0.48505, 0.518375, 0.5224, 0.51145, 0.517775, 0.488175, 0.479475, 0.51745, 0.5138, 0.514875, 0.52235, 0.504625, 0.4783, 0.47785, 0.49515, 0.4824, 0.51375, 0.5022, 0.522375, 0.4804, 0.482325, 0.51795, 0.51235, 0.517325, 0.517625, 0.5002, 0.479275, 0.4784, 0.49155, 0.482975, 0.48165, 0.51735, 0.517775, 0.50055, 0.479375, 0.5114, 0.520425, 0.5126, 0.487075, 0.48265, 0.482675, 0.500525, 0.479375, 0.47815, 0.479, 0.520875, 0.4777, 0.477875, 0.5208, 0.520825, 0.477, 0.523175, 0.52035, 0.4967, 0.521025, 0.47705, 0.4792, 0.47915, 0.477325, 0.52025, 0.517275, 0.5228, 0.52165, 0.5213, 0.521925, 0.4845, 0.4773, 0.5212, 0.5229, 0.52035, 0.47915, 0.52125, 0.47855, 0.496, 0.4772, 0.52035, 0.4807, 0.48055, 0.521975, 0.47855, 0.521625, 0.50395, 0.484725, 0.51925, 0.521325, 0.521325, 0.49445, 0.478525, 0.478275, 0.495975, 0.484725, 0.521725, 0.4802, 0.51975, 0.52195, 0.478425, 0.521725, 0.52175, 0.515025, 0.493025, 0.478275, 0.498325, 0.47815, 0.521975, 0.478275, 0.521775, 0.5144, 0.480175, 0.5213, 0.478275, 0.47875, 0.521975, 0.521725, 0.478175, 0.5142, 0.478025, 0.4982, 0.5221, 0.482275, 0.52205, 0.477925, 0.52185, 0.502175, 0.51795, 0.515975, 0.488475, 0.507025, 0.522025, 0.477875, 0.509125, 0.5015, 0.511425, 0.4825, 0.51185, 0.47965, 0.47875, 0.477875, 0.48935, 0.49935, 0.503225, 0.482325, 0.48235, 0.504225, 0.4788, 0.522125, 0.491925, 0.49995, 0.521725, 0.493925, 0.4821, 0.512225, 0.521275, 0.477825, 0.49185, 0.501025, 0.4852, 0.494375, 0.483075, 0.517575, 0.481875, 0.5221, 0.491825, 0.5009, 0.49215, 0.5203, 0.4909, 0.513175, 0.485125, 0.477875, 0.49185, 0.499075, 0.522125, 0.521, 0.52075, 0.5221, 0.4779, 0.47765, 0.520475, 0.5228, 0.476825, 0.520375, 0.48545, 0.52105, 0.477075, 0.477575, 0.5205, 0.477175, 0.520075, 0.484225, 0.4772, 0.47925, 0.52295, 0.520575, 0.5211, 0.477175, 0.521175, 0.47705, 0.479275, 0.520825, 0.52295, 0.4793, 0.5211, 0.522825, 0.520325, 0.4809, 0.51945, 0.52195, 0.477175, 0.4795, 0.51945, 0.5228, 0.480725, 0.521425, 0.52135, 0.515375, 0.478625, 0.5214, 0.48075, 0.495075, 0.47825, 0.4803, 0.5195, 0.47835, 0.52165, 0.478425, 0.51935, 0.494925, 0.49345, 0.47815, 0.5027, 0.47805, 0.521825, 0.4784, 0.4808, 0.4951, 0.499675, 0.5212, 0.52185, 0.51975, 0.52035, 0.4846, 0.4816, 0.505725, 0.50885, 0.505975, 0.520075, 0.51785, 0.508175, 0.5079, 0.485825, 0.487525, 0.518, 0.484825, 0.510225, 0.4927, 0.509225, 0.5077, 0.489475, 0.512675, 0.51105, 0.51235, 0.4878, 0.48595, 0.490325, 0.492025, 0.510475, 0.512675, 0.50035, 0.4924, 0.5122, 0.4958, 0.509225, 0.50845, 0.510425, 0.5125, 0.478325, 0.4949, 0.505225, 0.4881, 0.497675, 0.50825, 0.5158, 0.4875, 0.499125, 0.5026, 0.4787, 0.516875, 0.497675, 0.50505, 0.4809, 0.513025, 0.492525, 0.481, 0.508775, 0.513075, 0.497675, 0.4949, 0.48085, 0.513175, 0.522125, 0.520775, 0.479825, 0.477925, 0.520875, 0.479075, 0.52065, 0.49235, 0.5232, 0.478375, 0.513475, 0.488775, 0.5209, 0.479075, 0.520675, 0.508, 0.521925, 0.514525, 0.477275, 0.479975, 0.520875, 0.479325, 0.4793, 0.50805, 0.478925, 0.477, 0.48085, 0.479325, 0.510175, 0.479175, 0.51985, 0.481, 0.47965, 0.480975, 0.480525, 0.47805, 0.5006, 0.520625, 0.479675, 0.519025, 0.480725, 0.521475, 0.520825, 0.48465, 0.48935, 0.51945, 0.521125, 0.48095, 0.479875, 0.48005, 0.480675, 0.47835, 0.510625, 0.48055, 0.5216, 0.480875, 0.4934, 0.47835, 0.502275, 0.51065, 0.519275, 0.52175, 0.480875, 0.509375, 0.4788, 0.52175, 0.519225, 0.4893, 0.5194, 0.521325, 0.48705, 0.5055, 0.52025, 0.517775, 0.493425, 0.4836, 0.5217, 0.51765, 0.4832, 0.48485, 0.489825, 0.506025, 0.49525, 0.483775, 0.5217, 0.482275, 0.51065, 0.512275, 0.51165, 0.488725, 0.5024, 0.509425, 0.491875, 0.487425, 0.5027, 0.507625, 0.4922, 0.50395, 0.5066, 0.5089, 0.5077, 0.5126, 0.52165, 0.50495, 0.5051, 0.51135, 0.506575, 0.508925, 0.5074, 0.4874, 0.500875, 0.499525, 0.5064, 0.516825, 0.493525, 0.506925, 0.507475, 0.51275, 0.4924, 0.519025, 0.494675, 0.51395, 0.506425, 0.50705, 0.492525, 0.487325, 0.522125, 0.520575, 0.520725, 0.4779, 0.499225, 0.477325, 0.521175, 0.52205, 0.523175, 0.5216, 0.48505, 0.4888, 0.477425, 0.4788, 0.477875, 0.521975, 0.50655, 0.477275, 0.5203, 0.4958, 0.47745, 0.5213, 0.47785, 0.477375, 0.477, 0.51905, 0.519075, 0.519075, 0.47745, 0.519125, 0.477975, 0.51985, 0.48105, 0.51945, 0.522, 0.480775, 0.477675, 0.48095, 0.52245, 0.48075, 0.478875, 0.480275, 0.515425, 0.480775, 0.48985, 0.480925, 0.478025, 0.51975, 0.520275, 0.5193, 0.4792, 0.48085, 0.510375, 0.4809, 0.47815, 0.50685, 0.4783, 0.488725, 0.51835, 0.48105, 0.502625, 0.480875, 0.477075, 0.482425, 0.5212, 0.478275, 0.519225, 0.48115, 0.49655, 0.51925, 0.477125, 0.513725, 0.505625, 0.480925, 0.4928, 0.518725, 0.495575, 0.48225, 0.502625, 0.487, 0.5085, 0.510125, 0.491825, 0.517725, 0.49345, 0.486725, 0.502625, 0.49125, 0.512425, 0.503925, 0.488525, 0.482075, 0.50715, 0.50755, 0.5025, 0.520025, 0.492225, 0.4922, 0.496175, 0.520525, 0.50705, 0.49475, 0.507775, 0.478375, 0.50485, 0.494875, 0.5135, 0.520625, 0.507125, 0.5067, 0.50775, 0.497025, 0.505675, 0.50655, 0.4832, 0.479325, 0.492225, 0.493175, 0.49225, 0.492325, 0.480875, 0.504, 0.48105, 0.520675, 0.492225, 0.50685, 0.5077, 0.522125, 0.5206, 0.4798, 0.5221, 0.4866, 0.522725, 0.47875, 0.478925, 0.476775, 0.5218, 0.485025, 0.51115, 0.513375, 0.481175, 0.47875, 0.4789, 0.521975, 0.493425, 0.477275, 0.520575, 0.486575, 0.49405, 0.5214, 0.521125, 0.5226, 0.478475, 0.48095, 0.48095, 0.51925, 0.519325, 0.478625, 0.521175, 0.521325, 0.519225, 0.51945, 0.522, 0.519225, 0.519325, 0.478575, 0.4788, 0.480775, 0.5212, 0.4802, 0.48465, 0.480775, 0.480675, 0.520675, 0.479375, 0.480225, 0.52025, 0.480775, 0.52085, 0.480775, 0.480675, 0.51875, 0.51815, 0.507275, 0.5218, 0.51145, 0.518525, 0.51915, 0.519175, 0.48235, 0.482175, 0.51755, 0.47875, 0.4783, 0.519225, 0.517225, 0.519175, 0.5174, 0.51795, 0.51375, 0.4943, 0.5183, 0.514475, 0.483375, 0.4836, 0.517425, 0.48215, 0.517075, 0.491525, 0.509825, 0.51575, 0.51385, 0.497025, 0.483, 0.51795, 0.5087, 0.48765, 0.49605, 0.485025, 0.48495, 0.5088, 0.483525, 0.517975, 0.479875, 0.492325, 0.50635, 0.496275, 0.5135, 0.5186, 0.5177, 0.518275, 0.479325, 0.494625, 0.505225, 0.51865, 0.486475, 0.51835, 0.48215, 0.51905, 0.5109, 0.4948, 0.493775, 0.5168, 0.486575, 0.518825, 0.5182, 0.481075, 0.4987, 0.480875, 0.5019, 0.51895, 0.5134, 0.481425, 0.4826, 0.51895]\n"
          ],
          "name": "stdout"
        }
      ]
    },
    {
      "cell_type": "code",
      "metadata": {
        "id": "OSH2pX4vL690",
        "colab_type": "code",
        "colab": {
          "base_uri": "https://localhost:8080/",
          "height": 35
        },
        "outputId": "8c7788ba-e154-4584-c290-1b59a39240eb"
      },
      "source": [
        "n_vis = train.shape[1]\n",
        "n_hin = 10\n",
        "\n",
        "print(n_vis,n_hin)\n",
        "\n",
        "rbm = RBM(n_vis, n_hin)"
      ],
      "execution_count": 29,
      "outputs": [
        {
          "output_type": "stream",
          "text": [
            "2041 10\n"
          ],
          "name": "stdout"
        }
      ]
    },
    {
      "cell_type": "code",
      "metadata": {
        "id": "t0-IHrk6M4Mp",
        "colab_type": "code",
        "colab": {
          "base_uri": "https://localhost:8080/",
          "height": 35
        },
        "outputId": "74f65f98-c98f-4324-cada-51c66362015f"
      },
      "source": [
        "epochs = 500\n",
        "num_samples = 2000\n",
        "\n",
        "use_n_samples = min(len(train), 1000)\n",
        "print(\"Using %d samples\" % use_n_samples)\n",
        "\n",
        "#diff_thresh = 1e-4\n",
        "\n",
        "plot_title = f\"{n_hin} hidden layers; training with {use_n_samples} samples\"\n",
        "plotter = Plotters.XYPlotter(href=None,\n",
        "                             title=plot_title,\n",
        "                             x_label=\"Epoch\",\n",
        "                             y_label=\"TBD\")\n",
        "%matplotlib inline\n",
        "\n",
        "\n"
      ],
      "execution_count": 30,
      "outputs": [
        {
          "output_type": "stream",
          "text": [
            "Using 1000 samples\n"
          ],
          "name": "stdout"
        }
      ]
    },
    {
      "cell_type": "code",
      "metadata": {
        "id": "vSfrFuxzN3n1",
        "colab_type": "code",
        "colab": {
          "base_uri": "https://localhost:8080/",
          "height": 90
        },
        "outputId": "1459a3a2-3993-48c4-bdfc-d0ff8bd58195"
      },
      "source": [
        "for e in range(1, epochs+1):\n",
        "    # do one epoch of training\n",
        "    rbm.train(train[:use_n_samples])   \n",
        " \n",
        "    # now generate samples and calculate the energy\n",
        "    if e % 10 == 0:\n",
        "        print(\"\\nEpoch: \", e)\n",
        "        print(\"Sampling...\")\n",
        "\n",
        "        init_state = torch.zeros(num_samples, n_vis)\n",
        "        RBM_samples = rbm.draw_samples(100, init_state)\n",
        "\n",
        "        print(\"Done sampling.\") \n",
        " \n",
        "        break # during testing only\n",
        "        #plotter.update(e, abs(energies.item() - exact_energy))\n",
        "\n"
      ],
      "execution_count": 32,
      "outputs": [
        {
          "output_type": "stream",
          "text": [
            "\n",
            "Epoch:  10\n",
            "Sampling...\n",
            "Done sampling.\n"
          ],
          "name": "stdout"
        }
      ]
    },
    {
      "cell_type": "markdown",
      "metadata": {
        "colab_type": "text",
        "id": "0LssdN6rv5DU"
      },
      "source": [
        "## Add Code below to process the data"
      ]
    },
    {
      "cell_type": "code",
      "metadata": {
        "id": "f54KhGC0BQWH",
        "colab_type": "code",
        "colab": {}
      },
      "source": [
        ""
      ],
      "execution_count": null,
      "outputs": []
    },
    {
      "cell_type": "code",
      "metadata": {
        "colab_type": "code",
        "id": "plf3TUSquKOg",
        "colab": {}
      },
      "source": [
        "#BASIC Template code - TO BE MODIFIED\n",
        "from dwave.system import DWaveSampler, EmbeddingComposite\n",
        "\n",
        "#Converts the QUBO into a BinaryQuadraticModel and then calls sample().\n",
        "sampler = EmbeddingComposite(DWaveSampler())\n",
        "\n",
        "#Example encoding for x0,x1,x2,x4: needs to be generalized based on dataset\n",
        "Q = {('x0', 'x0'):1, ('x1', 'x1'):1, ('x2', 'x2'):1, ('x3', 'x3'):1, ('x4', 'x4'):1,}\n",
        "\n",
        "results = sampler.sample_qubo(Q, num_reads=10000)\n",
        "\n",
        "# print the results\n",
        "for smpl, energy in results.data(['sample', 'energy']):\n",
        "    print(smpl, energy)"
      ],
      "execution_count": null,
      "outputs": []
    }
  ]
}